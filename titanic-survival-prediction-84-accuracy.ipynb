{
 "cells": [
  {
   "cell_type": "markdown",
   "id": "6e89df31",
   "metadata": {
    "papermill": {
     "duration": 0.015592,
     "end_time": "2023-08-13T22:19:56.796991",
     "exception": false,
     "start_time": "2023-08-13T22:19:56.781399",
     "status": "completed"
    },
    "tags": []
   },
   "source": [
    "****DATA ANALYSIS OF THE TITANIC DATA****"
   ]
  },
  {
   "cell_type": "markdown",
   "id": "bbca680e",
   "metadata": {
    "papermill": {
     "duration": 0.014868,
     "end_time": "2023-08-13T22:19:56.827575",
     "exception": false,
     "start_time": "2023-08-13T22:19:56.812707",
     "status": "completed"
    },
    "tags": []
   },
   "source": [
    "**Importing basic libraries**"
   ]
  },
  {
   "cell_type": "code",
   "execution_count": 1,
   "id": "5f29e87b",
   "metadata": {
    "execution": {
     "iopub.execute_input": "2023-08-13T22:19:56.860681Z",
     "iopub.status.busy": "2023-08-13T22:19:56.859796Z",
     "iopub.status.idle": "2023-08-13T22:19:58.213319Z",
     "shell.execute_reply": "2023-08-13T22:19:58.212381Z"
    },
    "papermill": {
     "duration": 1.372896,
     "end_time": "2023-08-13T22:19:58.215828",
     "exception": false,
     "start_time": "2023-08-13T22:19:56.842932",
     "status": "completed"
    },
    "tags": []
   },
   "outputs": [
    {
     "name": "stderr",
     "output_type": "stream",
     "text": [
      "/opt/conda/lib/python3.10/site-packages/scipy/__init__.py:146: UserWarning: A NumPy version >=1.16.5 and <1.23.0 is required for this version of SciPy (detected version 1.23.5\n",
      "  warnings.warn(f\"A NumPy version >={np_minversion} and <{np_maxversion}\"\n"
     ]
    }
   ],
   "source": [
    "import numpy as np\n",
    "import pandas as pd\n",
    "import matplotlib.pyplot as plt\n",
    "import seaborn as sns"
   ]
  },
  {
   "cell_type": "markdown",
   "id": "0ad1c64c",
   "metadata": {
    "papermill": {
     "duration": 0.015078,
     "end_time": "2023-08-13T22:19:58.246711",
     "exception": false,
     "start_time": "2023-08-13T22:19:58.231633",
     "status": "completed"
    },
    "tags": []
   },
   "source": [
    "**Reading the data**"
   ]
  },
  {
   "cell_type": "code",
   "execution_count": 2,
   "id": "984979d0",
   "metadata": {
    "execution": {
     "iopub.execute_input": "2023-08-13T22:19:58.281894Z",
     "iopub.status.busy": "2023-08-13T22:19:58.281176Z",
     "iopub.status.idle": "2023-08-13T22:19:58.315329Z",
     "shell.execute_reply": "2023-08-13T22:19:58.314221Z"
    },
    "papermill": {
     "duration": 0.055927,
     "end_time": "2023-08-13T22:19:58.317882",
     "exception": false,
     "start_time": "2023-08-13T22:19:58.261955",
     "status": "completed"
    },
    "tags": []
   },
   "outputs": [],
   "source": [
    "train_data=pd.read_csv('/kaggle/input/titanic/train.csv')\n",
    "test_data=pd.read_csv('/kaggle/input/titanic/test.csv')"
   ]
  },
  {
   "cell_type": "code",
   "execution_count": 3,
   "id": "09557691",
   "metadata": {
    "execution": {
     "iopub.execute_input": "2023-08-13T22:19:58.354476Z",
     "iopub.status.busy": "2023-08-13T22:19:58.353703Z",
     "iopub.status.idle": "2023-08-13T22:19:58.373841Z",
     "shell.execute_reply": "2023-08-13T22:19:58.372699Z"
    },
    "papermill": {
     "duration": 0.040859,
     "end_time": "2023-08-13T22:19:58.376367",
     "exception": false,
     "start_time": "2023-08-13T22:19:58.335508",
     "status": "completed"
    },
    "tags": []
   },
   "outputs": [
    {
     "data": {
      "text/plain": [
       "Index(['PassengerId', 'Survived', 'Pclass', 'Name', 'Sex', 'Age', 'SibSp',\n",
       "       'Parch', 'Ticket', 'Fare', 'Cabin', 'Embarked'],\n",
       "      dtype='object')"
      ]
     },
     "execution_count": 3,
     "metadata": {},
     "output_type": "execute_result"
    }
   ],
   "source": [
    "titanic_data=pd.concat([train_data,test_data])\n",
    "titanic_data.columns"
   ]
  },
  {
   "cell_type": "code",
   "execution_count": 4,
   "id": "eec31109",
   "metadata": {
    "execution": {
     "iopub.execute_input": "2023-08-13T22:19:58.409346Z",
     "iopub.status.busy": "2023-08-13T22:19:58.408905Z",
     "iopub.status.idle": "2023-08-13T22:19:58.415698Z",
     "shell.execute_reply": "2023-08-13T22:19:58.414652Z"
    },
    "papermill": {
     "duration": 0.025544,
     "end_time": "2023-08-13T22:19:58.417684",
     "exception": false,
     "start_time": "2023-08-13T22:19:58.392140",
     "status": "completed"
    },
    "tags": []
   },
   "outputs": [
    {
     "data": {
      "text/plain": [
       "(891, 12)"
      ]
     },
     "execution_count": 4,
     "metadata": {},
     "output_type": "execute_result"
    }
   ],
   "source": [
    "train_data.shape"
   ]
  },
  {
   "cell_type": "markdown",
   "id": "c8fe4a3f",
   "metadata": {
    "papermill": {
     "duration": 0.01542,
     "end_time": "2023-08-13T22:19:58.448733",
     "exception": false,
     "start_time": "2023-08-13T22:19:58.433313",
     "status": "completed"
    },
    "tags": []
   },
   "source": [
    "**Data Exploration**"
   ]
  },
  {
   "cell_type": "code",
   "execution_count": 5,
   "id": "fc488876",
   "metadata": {
    "execution": {
     "iopub.execute_input": "2023-08-13T22:19:58.481777Z",
     "iopub.status.busy": "2023-08-13T22:19:58.480845Z",
     "iopub.status.idle": "2023-08-13T22:19:58.502782Z",
     "shell.execute_reply": "2023-08-13T22:19:58.501616Z"
    },
    "papermill": {
     "duration": 0.040842,
     "end_time": "2023-08-13T22:19:58.505031",
     "exception": false,
     "start_time": "2023-08-13T22:19:58.464189",
     "status": "completed"
    },
    "tags": []
   },
   "outputs": [
    {
     "name": "stdout",
     "output_type": "stream",
     "text": [
      "<class 'pandas.core.frame.DataFrame'>\n",
      "RangeIndex: 891 entries, 0 to 890\n",
      "Data columns (total 12 columns):\n",
      " #   Column       Non-Null Count  Dtype  \n",
      "---  ------       --------------  -----  \n",
      " 0   PassengerId  891 non-null    int64  \n",
      " 1   Survived     891 non-null    int64  \n",
      " 2   Pclass       891 non-null    int64  \n",
      " 3   Name         891 non-null    object \n",
      " 4   Sex          891 non-null    object \n",
      " 5   Age          714 non-null    float64\n",
      " 6   SibSp        891 non-null    int64  \n",
      " 7   Parch        891 non-null    int64  \n",
      " 8   Ticket       891 non-null    object \n",
      " 9   Fare         891 non-null    float64\n",
      " 10  Cabin        204 non-null    object \n",
      " 11  Embarked     889 non-null    object \n",
      "dtypes: float64(2), int64(5), object(5)\n",
      "memory usage: 83.7+ KB\n"
     ]
    }
   ],
   "source": [
    "train_data.info()"
   ]
  },
  {
   "cell_type": "code",
   "execution_count": 6,
   "id": "9e782702",
   "metadata": {
    "execution": {
     "iopub.execute_input": "2023-08-13T22:19:58.538039Z",
     "iopub.status.busy": "2023-08-13T22:19:58.537664Z",
     "iopub.status.idle": "2023-08-13T22:19:58.543183Z",
     "shell.execute_reply": "2023-08-13T22:19:58.542459Z"
    },
    "papermill": {
     "duration": 0.024568,
     "end_time": "2023-08-13T22:19:58.545006",
     "exception": false,
     "start_time": "2023-08-13T22:19:58.520438",
     "status": "completed"
    },
    "tags": []
   },
   "outputs": [
    {
     "data": {
      "text/plain": [
       "(418, 11)"
      ]
     },
     "execution_count": 6,
     "metadata": {},
     "output_type": "execute_result"
    }
   ],
   "source": [
    "test_data.shape"
   ]
  },
  {
   "cell_type": "code",
   "execution_count": 7,
   "id": "fa967672",
   "metadata": {
    "execution": {
     "iopub.execute_input": "2023-08-13T22:19:58.579683Z",
     "iopub.status.busy": "2023-08-13T22:19:58.578521Z",
     "iopub.status.idle": "2023-08-13T22:19:58.591495Z",
     "shell.execute_reply": "2023-08-13T22:19:58.589849Z"
    },
    "papermill": {
     "duration": 0.032661,
     "end_time": "2023-08-13T22:19:58.593742",
     "exception": false,
     "start_time": "2023-08-13T22:19:58.561081",
     "status": "completed"
    },
    "tags": []
   },
   "outputs": [
    {
     "name": "stdout",
     "output_type": "stream",
     "text": [
      "<class 'pandas.core.frame.DataFrame'>\n",
      "RangeIndex: 418 entries, 0 to 417\n",
      "Data columns (total 11 columns):\n",
      " #   Column       Non-Null Count  Dtype  \n",
      "---  ------       --------------  -----  \n",
      " 0   PassengerId  418 non-null    int64  \n",
      " 1   Pclass       418 non-null    int64  \n",
      " 2   Name         418 non-null    object \n",
      " 3   Sex          418 non-null    object \n",
      " 4   Age          332 non-null    float64\n",
      " 5   SibSp        418 non-null    int64  \n",
      " 6   Parch        418 non-null    int64  \n",
      " 7   Ticket       418 non-null    object \n",
      " 8   Fare         417 non-null    float64\n",
      " 9   Cabin        91 non-null     object \n",
      " 10  Embarked     418 non-null    object \n",
      "dtypes: float64(2), int64(4), object(5)\n",
      "memory usage: 36.0+ KB\n"
     ]
    }
   ],
   "source": [
    "test_data.info()"
   ]
  },
  {
   "cell_type": "code",
   "execution_count": 8,
   "id": "4f1a53fb",
   "metadata": {
    "execution": {
     "iopub.execute_input": "2023-08-13T22:19:58.629142Z",
     "iopub.status.busy": "2023-08-13T22:19:58.627981Z",
     "iopub.status.idle": "2023-08-13T22:19:58.664264Z",
     "shell.execute_reply": "2023-08-13T22:19:58.663209Z"
    },
    "papermill": {
     "duration": 0.056368,
     "end_time": "2023-08-13T22:19:58.666685",
     "exception": false,
     "start_time": "2023-08-13T22:19:58.610317",
     "status": "completed"
    },
    "tags": []
   },
   "outputs": [
    {
     "data": {
      "text/html": [
       "<div>\n",
       "<style scoped>\n",
       "    .dataframe tbody tr th:only-of-type {\n",
       "        vertical-align: middle;\n",
       "    }\n",
       "\n",
       "    .dataframe tbody tr th {\n",
       "        vertical-align: top;\n",
       "    }\n",
       "\n",
       "    .dataframe thead th {\n",
       "        text-align: right;\n",
       "    }\n",
       "</style>\n",
       "<table border=\"1\" class=\"dataframe\">\n",
       "  <thead>\n",
       "    <tr style=\"text-align: right;\">\n",
       "      <th></th>\n",
       "      <th>PassengerId</th>\n",
       "      <th>Survived</th>\n",
       "      <th>Pclass</th>\n",
       "      <th>Age</th>\n",
       "      <th>SibSp</th>\n",
       "      <th>Parch</th>\n",
       "      <th>Fare</th>\n",
       "    </tr>\n",
       "  </thead>\n",
       "  <tbody>\n",
       "    <tr>\n",
       "      <th>count</th>\n",
       "      <td>891.000000</td>\n",
       "      <td>891.000000</td>\n",
       "      <td>891.000000</td>\n",
       "      <td>714.000000</td>\n",
       "      <td>891.000000</td>\n",
       "      <td>891.000000</td>\n",
       "      <td>891.000000</td>\n",
       "    </tr>\n",
       "    <tr>\n",
       "      <th>mean</th>\n",
       "      <td>446.000000</td>\n",
       "      <td>0.383838</td>\n",
       "      <td>2.308642</td>\n",
       "      <td>29.699118</td>\n",
       "      <td>0.523008</td>\n",
       "      <td>0.381594</td>\n",
       "      <td>32.204208</td>\n",
       "    </tr>\n",
       "    <tr>\n",
       "      <th>std</th>\n",
       "      <td>257.353842</td>\n",
       "      <td>0.486592</td>\n",
       "      <td>0.836071</td>\n",
       "      <td>14.526497</td>\n",
       "      <td>1.102743</td>\n",
       "      <td>0.806057</td>\n",
       "      <td>49.693429</td>\n",
       "    </tr>\n",
       "    <tr>\n",
       "      <th>min</th>\n",
       "      <td>1.000000</td>\n",
       "      <td>0.000000</td>\n",
       "      <td>1.000000</td>\n",
       "      <td>0.420000</td>\n",
       "      <td>0.000000</td>\n",
       "      <td>0.000000</td>\n",
       "      <td>0.000000</td>\n",
       "    </tr>\n",
       "    <tr>\n",
       "      <th>25%</th>\n",
       "      <td>223.500000</td>\n",
       "      <td>0.000000</td>\n",
       "      <td>2.000000</td>\n",
       "      <td>20.125000</td>\n",
       "      <td>0.000000</td>\n",
       "      <td>0.000000</td>\n",
       "      <td>7.910400</td>\n",
       "    </tr>\n",
       "    <tr>\n",
       "      <th>50%</th>\n",
       "      <td>446.000000</td>\n",
       "      <td>0.000000</td>\n",
       "      <td>3.000000</td>\n",
       "      <td>28.000000</td>\n",
       "      <td>0.000000</td>\n",
       "      <td>0.000000</td>\n",
       "      <td>14.454200</td>\n",
       "    </tr>\n",
       "    <tr>\n",
       "      <th>75%</th>\n",
       "      <td>668.500000</td>\n",
       "      <td>1.000000</td>\n",
       "      <td>3.000000</td>\n",
       "      <td>38.000000</td>\n",
       "      <td>1.000000</td>\n",
       "      <td>0.000000</td>\n",
       "      <td>31.000000</td>\n",
       "    </tr>\n",
       "    <tr>\n",
       "      <th>max</th>\n",
       "      <td>891.000000</td>\n",
       "      <td>1.000000</td>\n",
       "      <td>3.000000</td>\n",
       "      <td>80.000000</td>\n",
       "      <td>8.000000</td>\n",
       "      <td>6.000000</td>\n",
       "      <td>512.329200</td>\n",
       "    </tr>\n",
       "  </tbody>\n",
       "</table>\n",
       "</div>"
      ],
      "text/plain": [
       "       PassengerId    Survived      Pclass         Age       SibSp  \\\n",
       "count   891.000000  891.000000  891.000000  714.000000  891.000000   \n",
       "mean    446.000000    0.383838    2.308642   29.699118    0.523008   \n",
       "std     257.353842    0.486592    0.836071   14.526497    1.102743   \n",
       "min       1.000000    0.000000    1.000000    0.420000    0.000000   \n",
       "25%     223.500000    0.000000    2.000000   20.125000    0.000000   \n",
       "50%     446.000000    0.000000    3.000000   28.000000    0.000000   \n",
       "75%     668.500000    1.000000    3.000000   38.000000    1.000000   \n",
       "max     891.000000    1.000000    3.000000   80.000000    8.000000   \n",
       "\n",
       "            Parch        Fare  \n",
       "count  891.000000  891.000000  \n",
       "mean     0.381594   32.204208  \n",
       "std      0.806057   49.693429  \n",
       "min      0.000000    0.000000  \n",
       "25%      0.000000    7.910400  \n",
       "50%      0.000000   14.454200  \n",
       "75%      0.000000   31.000000  \n",
       "max      6.000000  512.329200  "
      ]
     },
     "execution_count": 8,
     "metadata": {},
     "output_type": "execute_result"
    }
   ],
   "source": [
    "train_data.describe()"
   ]
  },
  {
   "cell_type": "code",
   "execution_count": 9,
   "id": "aa5c7377",
   "metadata": {
    "execution": {
     "iopub.execute_input": "2023-08-13T22:19:58.701574Z",
     "iopub.status.busy": "2023-08-13T22:19:58.700592Z",
     "iopub.status.idle": "2023-08-13T22:19:58.708822Z",
     "shell.execute_reply": "2023-08-13T22:19:58.707640Z"
    },
    "papermill": {
     "duration": 0.028406,
     "end_time": "2023-08-13T22:19:58.711288",
     "exception": false,
     "start_time": "2023-08-13T22:19:58.682882",
     "status": "completed"
    },
    "tags": []
   },
   "outputs": [],
   "source": [
    "#seperating numerical and categorical data\n",
    "\n",
    "num_data=train_data[['Age','SibSp','Parch','Fare']]\n",
    "cat_data=train_data[['Survived','Pclass','Sex','Ticket','Cabin','Embarked']]"
   ]
  },
  {
   "cell_type": "code",
   "execution_count": 10,
   "id": "9eb520d5",
   "metadata": {
    "execution": {
     "iopub.execute_input": "2023-08-13T22:19:58.746017Z",
     "iopub.status.busy": "2023-08-13T22:19:58.745612Z",
     "iopub.status.idle": "2023-08-13T22:19:59.800848Z",
     "shell.execute_reply": "2023-08-13T22:19:59.799694Z"
    },
    "papermill": {
     "duration": 1.074809,
     "end_time": "2023-08-13T22:19:59.803024",
     "exception": false,
     "start_time": "2023-08-13T22:19:58.728215",
     "status": "completed"
    },
    "tags": []
   },
   "outputs": [
    {
     "data": {
      "image/png": "[encoded data removed]",
      "text/plain": [
       "<Figure size 640x480 with 1 Axes>"
      ]
     },
     "metadata": {},
     "output_type": "display_data"
    },
    {
     "data": {
      "image/png": "[encoded data removed]",
      "text/plain": [
       "<Figure size 640x480 with 1 Axes>"
      ]
     },
     "metadata": {},
     "output_type": "display_data"
    },
    {
     "data": {
      "image/png": "[encoded data removed]",
      "text/plain": [
       "<Figure size 640x480 with 1 Axes>"
      ]
     },
     "metadata": {},
     "output_type": "display_data"
    },
    {
     "data": {
      "image/png": "[encoded data removed]",
      "text/plain": [
       "<Figure size 640x480 with 1 Axes>"
      ]
     },
     "metadata": {},
     "output_type": "display_data"
    }
   ],
   "source": [
    "#plots of the numeric data\n",
    "\n",
    "for i in num_data.columns:\n",
    "    plt.hist(num_data[i])\n",
    "    plt.title(i)\n",
    "    plt.show()"
   ]
  },
  {
   "cell_type": "markdown",
   "id": "e805b15f",
   "metadata": {
    "papermill": {
     "duration": 0.017119,
     "end_time": "2023-08-13T22:19:59.837587",
     "exception": false,
     "start_time": "2023-08-13T22:19:59.820468",
     "status": "completed"
    },
    "tags": []
   },
   "source": [
    " Except Age, seems like, all other columns require Normalization..."
   ]
  },
  {
   "cell_type": "markdown",
   "id": "35b26aaf",
   "metadata": {
    "papermill": {
     "duration": 0.01662,
     "end_time": "2023-08-13T22:19:59.871244",
     "exception": false,
     "start_time": "2023-08-13T22:19:59.854624",
     "status": "completed"
    },
    "tags": []
   },
   "source": [
    "**Let's visualize correlation among the numerical columns of the data**"
   ]
  },
  {
   "cell_type": "code",
   "execution_count": 11,
   "id": "24e1da79",
   "metadata": {
    "execution": {
     "iopub.execute_input": "2023-08-13T22:19:59.907597Z",
     "iopub.status.busy": "2023-08-13T22:19:59.907178Z",
     "iopub.status.idle": "2023-08-13T22:20:00.213838Z",
     "shell.execute_reply": "2023-08-13T22:20:00.212471Z"
    },
    "papermill": {
     "duration": 0.32832,
     "end_time": "2023-08-13T22:20:00.216790",
     "exception": false,
     "start_time": "2023-08-13T22:19:59.888470",
     "status": "completed"
    },
    "tags": []
   },
   "outputs": [
    {
     "data": {
      "text/plain": [
       "<Axes: >"
      ]
     },
     "execution_count": 11,
     "metadata": {},
     "output_type": "execute_result"
    },
    {
     "data": {
      "image/png": "[encoded data removed]",
      "text/plain": [
       "<Figure size 640x480 with 2 Axes>"
      ]
     },
     "metadata": {},
     "output_type": "display_data"
    }
   ],
   "source": [
    "sns.heatmap(num_data.corr())"
   ]
  },
  {
   "cell_type": "markdown",
   "id": "e6b8a0ff",
   "metadata": {
    "papermill": {
     "duration": 0.017441,
     "end_time": "2023-08-13T22:20:00.252215",
     "exception": false,
     "start_time": "2023-08-13T22:20:00.234774",
     "status": "completed"
    },
    "tags": []
   },
   "source": [
    "So, we see 'Parch' and 'SibSp' have a higher correlation and its obvious as Parents are more likely to travel with their children and spouses also travel together."
   ]
  },
  {
   "cell_type": "markdown",
   "id": "bc6aeef4",
   "metadata": {
    "papermill": {
     "duration": 0.017231,
     "end_time": "2023-08-13T22:20:00.287051",
     "exception": false,
     "start_time": "2023-08-13T22:20:00.269820",
     "status": "completed"
    },
    "tags": []
   },
   "source": [
    "**Now, let's check survival rates across numerical columns**"
   ]
  },
  {
   "cell_type": "code",
   "execution_count": 12,
   "id": "a4196b7f",
   "metadata": {
    "execution": {
     "iopub.execute_input": "2023-08-13T22:20:00.324302Z",
     "iopub.status.busy": "2023-08-13T22:20:00.323915Z",
     "iopub.status.idle": "2023-08-13T22:20:00.347805Z",
     "shell.execute_reply": "2023-08-13T22:20:00.346659Z"
    },
    "papermill": {
     "duration": 0.04554,
     "end_time": "2023-08-13T22:20:00.350220",
     "exception": false,
     "start_time": "2023-08-13T22:20:00.304680",
     "status": "completed"
    },
    "tags": []
   },
   "outputs": [
    {
     "data": {
      "text/html": [
       "<div>\n",
       "<style scoped>\n",
       "    .dataframe tbody tr th:only-of-type {\n",
       "        vertical-align: middle;\n",
       "    }\n",
       "\n",
       "    .dataframe tbody tr th {\n",
       "        vertical-align: top;\n",
       "    }\n",
       "\n",
       "    .dataframe thead th {\n",
       "        text-align: right;\n",
       "    }\n",
       "</style>\n",
       "<table border=\"1\" class=\"dataframe\">\n",
       "  <thead>\n",
       "    <tr style=\"text-align: right;\">\n",
       "      <th></th>\n",
       "      <th>Age</th>\n",
       "      <th>Fare</th>\n",
       "      <th>Parch</th>\n",
       "      <th>SibSp</th>\n",
       "    </tr>\n",
       "    <tr>\n",
       "      <th>Survived</th>\n",
       "      <th></th>\n",
       "      <th></th>\n",
       "      <th></th>\n",
       "      <th></th>\n",
       "    </tr>\n",
       "  </thead>\n",
       "  <tbody>\n",
       "    <tr>\n",
       "      <th>0</th>\n",
       "      <td>30.626179</td>\n",
       "      <td>22.117887</td>\n",
       "      <td>0.329690</td>\n",
       "      <td>0.553734</td>\n",
       "    </tr>\n",
       "    <tr>\n",
       "      <th>1</th>\n",
       "      <td>28.343690</td>\n",
       "      <td>48.395408</td>\n",
       "      <td>0.464912</td>\n",
       "      <td>0.473684</td>\n",
       "    </tr>\n",
       "  </tbody>\n",
       "</table>\n",
       "</div>"
      ],
      "text/plain": [
       "                Age       Fare     Parch     SibSp\n",
       "Survived                                          \n",
       "0         30.626179  22.117887  0.329690  0.553734\n",
       "1         28.343690  48.395408  0.464912  0.473684"
      ]
     },
     "execution_count": 12,
     "metadata": {},
     "output_type": "execute_result"
    }
   ],
   "source": [
    "pd.pivot_table(train_data,index='Survived',values=['Age','SibSp','Parch','Fare'])"
   ]
  },
  {
   "cell_type": "markdown",
   "id": "f0295eae",
   "metadata": {
    "papermill": {
     "duration": 0.017546,
     "end_time": "2023-08-13T22:20:00.385770",
     "exception": false,
     "start_time": "2023-08-13T22:20:00.368224",
     "status": "completed"
    },
    "tags": []
   },
   "source": [
    "* The average age of survivors is 28. This implies that young people tend to survive more.\n",
    "\n",
    "* Also, the people who paid almost double fare rates survived. The harsh truth is rich survived.\n",
    "\n",
    "* It is obvious that, if you have parents along you're more likely to survive as Parents tend to protect their children first.\n",
    "\n",
    "* And if you have more siblings, there are comparitively less chances of you surviving as it is difficult to pay attention to all of them."
   ]
  },
  {
   "cell_type": "markdown",
   "id": "4a6dfdd4",
   "metadata": {
    "papermill": {
     "duration": 0.017772,
     "end_time": "2023-08-13T22:20:00.421373",
     "exception": false,
     "start_time": "2023-08-13T22:20:00.403601",
     "status": "completed"
    },
    "tags": []
   },
   "source": [
    "**Now, let's analyze the categorical data**"
   ]
  },
  {
   "cell_type": "code",
   "execution_count": 13,
   "id": "82d7b9cf",
   "metadata": {
    "execution": {
     "iopub.execute_input": "2023-08-13T22:20:00.458770Z",
     "iopub.status.busy": "2023-08-13T22:20:00.458361Z",
     "iopub.status.idle": "2023-08-13T22:20:08.750209Z",
     "shell.execute_reply": "2023-08-13T22:20:08.749002Z"
    },
    "papermill": {
     "duration": 8.313464,
     "end_time": "2023-08-13T22:20:08.752682",
     "exception": false,
     "start_time": "2023-08-13T22:20:00.439218",
     "status": "completed"
    },
    "tags": []
   },
   "outputs": [
    {
     "data": {
      "image/png": "[encoded data removed]",
      "text/plain": [
       "<Figure size 640x480 with 1 Axes>"
      ]
     },
     "metadata": {},
     "output_type": "display_data"
    },
    {
     "data": {
      "image/png": "[encoded data removed]",
      "text/plain": [
       "<Figure size 640x480 with 1 Axes>"
      ]
     },
     "metadata": {},
     "output_type": "display_data"
    },
    {
     "data": {
      "image/png": "[encoded data removed]",
      "text/plain": [
       "<Figure size 640x480 with 1 Axes>"
      ]
     },
     "metadata": {},
     "output_type": "display_data"
    },
    {
     "data": {
      "image/png": "[encoded data removed]",
      "text/plain": [
       "<Figure size 640x480 with 1 Axes>"
      ]
     },
     "metadata": {},
     "output_type": "display_data"
    },
    {
     "data": {
      "image/png": "[encoded data removed]",
      "text/plain": [
       "<Figure size 640x480 with 1 Axes>"
      ]
     },
     "metadata": {},
     "output_type": "display_data"
    },
    {
     "data": {
      "image/png": "[encoded data removed]",
      "text/plain": [
       "<Figure size 640x480 with 1 Axes>"
      ]
     },
     "metadata": {},
     "output_type": "display_data"
    }
   ],
   "source": [
    "for i in cat_data.columns:\n",
    "    val_count=cat_data[i].value_counts()\n",
    "    sns.barplot(x=val_count.index,y=val_count).set_title(i)\n",
    "    plt.show()"
   ]
  },
  {
   "cell_type": "markdown",
   "id": "dc917b43",
   "metadata": {
    "papermill": {
     "duration": 0.01938,
     "end_time": "2023-08-13T22:20:08.791858",
     "exception": false,
     "start_time": "2023-08-13T22:20:08.772478",
     "status": "completed"
    },
    "tags": []
   },
   "source": [
    "The 'Ticket' and 'Cabin' plots aren't making things clear so, we'll look into them later.\n",
    "\n",
    "Inference from the above plots:\n",
    "\n",
    "* Survived- Most people died in this massacre, and only around 300 people survived.\n",
    "\n",
    "* Pclass- Most people travelling, had tickets of the 3rd class. \n",
    "\n",
    "* Sex- Males were almost double of that of females.\n",
    "\n",
    "* Embarked- Seems like, most people boarded from Southampton."
   ]
  },
  {
   "cell_type": "markdown",
   "id": "ea71ce6f",
   "metadata": {
    "papermill": {
     "duration": 0.02004,
     "end_time": "2023-08-13T22:20:08.831544",
     "exception": false,
     "start_time": "2023-08-13T22:20:08.811504",
     "status": "completed"
    },
    "tags": []
   },
   "source": [
    "**Let's first look for survival rates across each categorical column.**"
   ]
  },
  {
   "cell_type": "code",
   "execution_count": 14,
   "id": "1b34fb5d",
   "metadata": {
    "execution": {
     "iopub.execute_input": "2023-08-13T22:20:08.874173Z",
     "iopub.status.busy": "2023-08-13T22:20:08.873111Z",
     "iopub.status.idle": "2023-08-13T22:20:08.895326Z",
     "shell.execute_reply": "2023-08-13T22:20:08.894174Z"
    },
    "papermill": {
     "duration": 0.04658,
     "end_time": "2023-08-13T22:20:08.897680",
     "exception": false,
     "start_time": "2023-08-13T22:20:08.851100",
     "status": "completed"
    },
    "tags": []
   },
   "outputs": [
    {
     "data": {
      "text/html": [
       "<div>\n",
       "<style scoped>\n",
       "    .dataframe tbody tr th:only-of-type {\n",
       "        vertical-align: middle;\n",
       "    }\n",
       "\n",
       "    .dataframe tbody tr th {\n",
       "        vertical-align: top;\n",
       "    }\n",
       "\n",
       "    .dataframe thead th {\n",
       "        text-align: right;\n",
       "    }\n",
       "</style>\n",
       "<table border=\"1\" class=\"dataframe\">\n",
       "  <thead>\n",
       "    <tr style=\"text-align: right;\">\n",
       "      <th>Pclass</th>\n",
       "      <th>1</th>\n",
       "      <th>2</th>\n",
       "      <th>3</th>\n",
       "    </tr>\n",
       "    <tr>\n",
       "      <th>Survived</th>\n",
       "      <th></th>\n",
       "      <th></th>\n",
       "      <th></th>\n",
       "    </tr>\n",
       "  </thead>\n",
       "  <tbody>\n",
       "    <tr>\n",
       "      <th>0</th>\n",
       "      <td>80</td>\n",
       "      <td>97</td>\n",
       "      <td>372</td>\n",
       "    </tr>\n",
       "    <tr>\n",
       "      <th>1</th>\n",
       "      <td>136</td>\n",
       "      <td>87</td>\n",
       "      <td>119</td>\n",
       "    </tr>\n",
       "  </tbody>\n",
       "</table>\n",
       "</div>"
      ],
      "text/plain": [
       "Pclass      1   2    3\n",
       "Survived              \n",
       "0          80  97  372\n",
       "1         136  87  119"
      ]
     },
     "execution_count": 14,
     "metadata": {},
     "output_type": "execute_result"
    }
   ],
   "source": [
    "pd.pivot_table(train_data,index='Survived',columns='Pclass',values='Ticket',aggfunc='count')"
   ]
  },
  {
   "cell_type": "markdown",
   "id": "375159a7",
   "metadata": {
    "papermill": {
     "duration": 0.019454,
     "end_time": "2023-08-13T22:20:08.937159",
     "exception": false,
     "start_time": "2023-08-13T22:20:08.917705",
     "status": "completed"
    },
    "tags": []
   },
   "source": [
    "Here, we see a lot of people from First class survived than the Second or Third class. Although, people in First class were lesser than the other two class.\n",
    "\n",
    "Thus, our assumption most rich people survived is assured and this might be relevant enough in our model building."
   ]
  },
  {
   "cell_type": "code",
   "execution_count": 15,
   "id": "6c558d0b",
   "metadata": {
    "execution": {
     "iopub.execute_input": "2023-08-13T22:20:08.978613Z",
     "iopub.status.busy": "2023-08-13T22:20:08.978213Z",
     "iopub.status.idle": "2023-08-13T22:20:08.995947Z",
     "shell.execute_reply": "2023-08-13T22:20:08.994843Z"
    },
    "papermill": {
     "duration": 0.041325,
     "end_time": "2023-08-13T22:20:08.998381",
     "exception": false,
     "start_time": "2023-08-13T22:20:08.957056",
     "status": "completed"
    },
    "tags": []
   },
   "outputs": [
    {
     "data": {
      "text/html": [
       "<div>\n",
       "<style scoped>\n",
       "    .dataframe tbody tr th:only-of-type {\n",
       "        vertical-align: middle;\n",
       "    }\n",
       "\n",
       "    .dataframe tbody tr th {\n",
       "        vertical-align: top;\n",
       "    }\n",
       "\n",
       "    .dataframe thead th {\n",
       "        text-align: right;\n",
       "    }\n",
       "</style>\n",
       "<table border=\"1\" class=\"dataframe\">\n",
       "  <thead>\n",
       "    <tr style=\"text-align: right;\">\n",
       "      <th>Sex</th>\n",
       "      <th>female</th>\n",
       "      <th>male</th>\n",
       "    </tr>\n",
       "    <tr>\n",
       "      <th>Survived</th>\n",
       "      <th></th>\n",
       "      <th></th>\n",
       "    </tr>\n",
       "  </thead>\n",
       "  <tbody>\n",
       "    <tr>\n",
       "      <th>0</th>\n",
       "      <td>81</td>\n",
       "      <td>468</td>\n",
       "    </tr>\n",
       "    <tr>\n",
       "      <th>1</th>\n",
       "      <td>233</td>\n",
       "      <td>109</td>\n",
       "    </tr>\n",
       "  </tbody>\n",
       "</table>\n",
       "</div>"
      ],
      "text/plain": [
       "Sex       female  male\n",
       "Survived              \n",
       "0             81   468\n",
       "1            233   109"
      ]
     },
     "execution_count": 15,
     "metadata": {},
     "output_type": "execute_result"
    }
   ],
   "source": [
    "pd.pivot_table(train_data,index='Survived',columns='Sex',values='Ticket',aggfunc='count')"
   ]
  },
  {
   "cell_type": "markdown",
   "id": "a45c4981",
   "metadata": {
    "papermill": {
     "duration": 0.021104,
     "end_time": "2023-08-13T22:20:09.040861",
     "exception": false,
     "start_time": "2023-08-13T22:20:09.019757",
     "status": "completed"
    },
    "tags": []
   },
   "source": [
    "Also here, male number was larger than females but still, females survived more. Lol! Karma would have been the feature."
   ]
  },
  {
   "cell_type": "code",
   "execution_count": 16,
   "id": "35b10c4d",
   "metadata": {
    "execution": {
     "iopub.execute_input": "2023-08-13T22:20:09.084180Z",
     "iopub.status.busy": "2023-08-13T22:20:09.083823Z",
     "iopub.status.idle": "2023-08-13T22:20:09.100139Z",
     "shell.execute_reply": "2023-08-13T22:20:09.099021Z"
    },
    "papermill": {
     "duration": 0.040392,
     "end_time": "2023-08-13T22:20:09.102456",
     "exception": false,
     "start_time": "2023-08-13T22:20:09.062064",
     "status": "completed"
    },
    "tags": []
   },
   "outputs": [
    {
     "data": {
      "text/html": [
       "<div>\n",
       "<style scoped>\n",
       "    .dataframe tbody tr th:only-of-type {\n",
       "        vertical-align: middle;\n",
       "    }\n",
       "\n",
       "    .dataframe tbody tr th {\n",
       "        vertical-align: top;\n",
       "    }\n",
       "\n",
       "    .dataframe thead th {\n",
       "        text-align: right;\n",
       "    }\n",
       "</style>\n",
       "<table border=\"1\" class=\"dataframe\">\n",
       "  <thead>\n",
       "    <tr style=\"text-align: right;\">\n",
       "      <th>Embarked</th>\n",
       "      <th>C</th>\n",
       "      <th>Q</th>\n",
       "      <th>S</th>\n",
       "    </tr>\n",
       "    <tr>\n",
       "      <th>Survived</th>\n",
       "      <th></th>\n",
       "      <th></th>\n",
       "      <th></th>\n",
       "    </tr>\n",
       "  </thead>\n",
       "  <tbody>\n",
       "    <tr>\n",
       "      <th>0</th>\n",
       "      <td>75</td>\n",
       "      <td>47</td>\n",
       "      <td>427</td>\n",
       "    </tr>\n",
       "    <tr>\n",
       "      <th>1</th>\n",
       "      <td>93</td>\n",
       "      <td>30</td>\n",
       "      <td>217</td>\n",
       "    </tr>\n",
       "  </tbody>\n",
       "</table>\n",
       "</div>"
      ],
      "text/plain": [
       "Embarked   C   Q    S\n",
       "Survived             \n",
       "0         75  47  427\n",
       "1         93  30  217"
      ]
     },
     "execution_count": 16,
     "metadata": {},
     "output_type": "execute_result"
    }
   ],
   "source": [
    "pd.pivot_table(train_data,index='Survived',columns='Embarked',values='Ticket',aggfunc='count')"
   ]
  },
  {
   "cell_type": "markdown",
   "id": "b92d6987",
   "metadata": {
    "papermill": {
     "duration": 0.019971,
     "end_time": "2023-08-13T22:20:09.142644",
     "exception": false,
     "start_time": "2023-08-13T22:20:09.122673",
     "status": "completed"
    },
    "tags": []
   },
   "source": [
    "People from 'Cherbourg' had a higher chance of survival. However, this doesn't seem so relevant."
   ]
  },
  {
   "cell_type": "markdown",
   "id": "a0fe4ad4",
   "metadata": {
    "papermill": {
     "duration": 0.019728,
     "end_time": "2023-08-13T22:20:09.182491",
     "exception": false,
     "start_time": "2023-08-13T22:20:09.162763",
     "status": "completed"
    },
    "tags": []
   },
   "source": [
    "'Ticket' and 'Cabin' columns we previously ignored mayhinder the performance of the model. So, let's first simplify them with feature engineering."
   ]
  },
  {
   "cell_type": "markdown",
   "id": "1da39450",
   "metadata": {
    "papermill": {
     "duration": 0.01995,
     "end_time": "2023-08-13T22:20:09.222664",
     "exception": false,
     "start_time": "2023-08-13T22:20:09.202714",
     "status": "completed"
    },
    "tags": []
   },
   "source": [
    "'Cabin' column is a letter followed by a number. \n",
    "First let's see if a single person owned more than one cabins."
   ]
  },
  {
   "cell_type": "code",
   "execution_count": 17,
   "id": "12be2476",
   "metadata": {
    "execution": {
     "iopub.execute_input": "2023-08-13T22:20:09.265624Z",
     "iopub.status.busy": "2023-08-13T22:20:09.264895Z",
     "iopub.status.idle": "2023-08-13T22:20:09.280626Z",
     "shell.execute_reply": "2023-08-13T22:20:09.279450Z"
    },
    "papermill": {
     "duration": 0.03958,
     "end_time": "2023-08-13T22:20:09.282756",
     "exception": false,
     "start_time": "2023-08-13T22:20:09.243176",
     "status": "completed"
    },
    "tags": []
   },
   "outputs": [
    {
     "data": {
      "text/plain": [
       "0    326\n",
       "1     80\n",
       "2      8\n",
       "3      3\n",
       "4      1\n",
       "Name: multiple_cabins, dtype: int64"
      ]
     },
     "execution_count": 17,
     "metadata": {},
     "output_type": "execute_result"
    }
   ],
   "source": [
    "cat_data.Cabin\n",
    "train_data['multiple_cabins']=train_data.Cabin.apply(lambda x:0 if pd.isna(x)\n",
    "                                                     else len(x.split(' ')))\n",
    "train_data['multiple_cabins'].value_counts()\n",
    "\n",
    "cat_data.Cabin\n",
    "test_data['multiple_cabins']=train_data.Cabin.apply(lambda x:0 if pd.isna(x)\n",
    "                                                     else len(x.split(' ')))\n",
    "test_data['multiple_cabins'].value_counts()"
   ]
  },
  {
   "cell_type": "markdown",
   "id": "8069772b",
   "metadata": {
    "papermill": {
     "duration": 0.020508,
     "end_time": "2023-08-13T22:20:09.324468",
     "exception": false,
     "start_time": "2023-08-13T22:20:09.303960",
     "status": "completed"
    },
    "tags": []
   },
   "source": [
    "It seems like most people didn't have individual cabins, only a few owned multiple cabins."
   ]
  },
  {
   "cell_type": "markdown",
   "id": "0a715606",
   "metadata": {
    "papermill": {
     "duration": 0.019988,
     "end_time": "2023-08-13T22:20:09.364779",
     "exception": false,
     "start_time": "2023-08-13T22:20:09.344791",
     "status": "completed"
    },
    "tags": []
   },
   "source": [
    "Now, let's see if the survival rates depend on this..."
   ]
  },
  {
   "cell_type": "code",
   "execution_count": 18,
   "id": "98bc1aa3",
   "metadata": {
    "execution": {
     "iopub.execute_input": "2023-08-13T22:20:09.407447Z",
     "iopub.status.busy": "2023-08-13T22:20:09.407001Z",
     "iopub.status.idle": "2023-08-13T22:20:09.428794Z",
     "shell.execute_reply": "2023-08-13T22:20:09.427616Z"
    },
    "papermill": {
     "duration": 0.045969,
     "end_time": "2023-08-13T22:20:09.431413",
     "exception": false,
     "start_time": "2023-08-13T22:20:09.385444",
     "status": "completed"
    },
    "tags": []
   },
   "outputs": [
    {
     "data": {
      "text/html": [
       "<div>\n",
       "<style scoped>\n",
       "    .dataframe tbody tr th:only-of-type {\n",
       "        vertical-align: middle;\n",
       "    }\n",
       "\n",
       "    .dataframe tbody tr th {\n",
       "        vertical-align: top;\n",
       "    }\n",
       "\n",
       "    .dataframe thead th {\n",
       "        text-align: right;\n",
       "    }\n",
       "</style>\n",
       "<table border=\"1\" class=\"dataframe\">\n",
       "  <thead>\n",
       "    <tr style=\"text-align: right;\">\n",
       "      <th>multiple_cabins</th>\n",
       "      <th>0</th>\n",
       "      <th>1</th>\n",
       "      <th>2</th>\n",
       "      <th>3</th>\n",
       "      <th>4</th>\n",
       "    </tr>\n",
       "    <tr>\n",
       "      <th>Survived</th>\n",
       "      <th></th>\n",
       "      <th></th>\n",
       "      <th></th>\n",
       "      <th></th>\n",
       "      <th></th>\n",
       "    </tr>\n",
       "  </thead>\n",
       "  <tbody>\n",
       "    <tr>\n",
       "      <th>0</th>\n",
       "      <td>481.0</td>\n",
       "      <td>58.0</td>\n",
       "      <td>7.0</td>\n",
       "      <td>3.0</td>\n",
       "      <td>NaN</td>\n",
       "    </tr>\n",
       "    <tr>\n",
       "      <th>1</th>\n",
       "      <td>206.0</td>\n",
       "      <td>122.0</td>\n",
       "      <td>9.0</td>\n",
       "      <td>3.0</td>\n",
       "      <td>2.0</td>\n",
       "    </tr>\n",
       "  </tbody>\n",
       "</table>\n",
       "</div>"
      ],
      "text/plain": [
       "multiple_cabins      0      1    2    3    4\n",
       "Survived                                    \n",
       "0                481.0   58.0  7.0  3.0  NaN\n",
       "1                206.0  122.0  9.0  3.0  2.0"
      ]
     },
     "execution_count": 18,
     "metadata": {},
     "output_type": "execute_result"
    }
   ],
   "source": [
    "pd.pivot_table(train_data,index='Survived',columns='multiple_cabins',values='Ticket',aggfunc='count')"
   ]
  },
  {
   "cell_type": "markdown",
   "id": "21a8b424",
   "metadata": {
    "papermill": {
     "duration": 0.020631,
     "end_time": "2023-08-13T22:20:09.472695",
     "exception": false,
     "start_time": "2023-08-13T22:20:09.452064",
     "status": "completed"
    },
    "tags": []
   },
   "source": [
    "Now, let's look into the letter of the cabin. This would be helpful assuming that the cabins with the same letter would roughly fall in the same location and maybe that had any influence on chances of survival."
   ]
  },
  {
   "cell_type": "code",
   "execution_count": 19,
   "id": "1d7c896f",
   "metadata": {
    "execution": {
     "iopub.execute_input": "2023-08-13T22:20:09.516145Z",
     "iopub.status.busy": "2023-08-13T22:20:09.515748Z",
     "iopub.status.idle": "2023-08-13T22:20:09.546663Z",
     "shell.execute_reply": "2023-08-13T22:20:09.545716Z"
    },
    "papermill": {
     "duration": 0.054826,
     "end_time": "2023-08-13T22:20:09.548662",
     "exception": false,
     "start_time": "2023-08-13T22:20:09.493836",
     "status": "completed"
    },
    "tags": []
   },
   "outputs": [
    {
     "name": "stdout",
     "output_type": "stream",
     "text": [
      "n    687\n",
      "C     59\n",
      "B     47\n",
      "D     33\n",
      "E     32\n",
      "A     15\n",
      "F     13\n",
      "G      4\n",
      "T      1\n",
      "Name: cabin_letter, dtype: int64\n",
      "n    327\n",
      "C     35\n",
      "B     18\n",
      "D     13\n",
      "E      9\n",
      "F      8\n",
      "A      7\n",
      "G      1\n",
      "Name: cabin_letter, dtype: int64\n"
     ]
    },
    {
     "data": {
      "text/html": [
       "<div>\n",
       "<style scoped>\n",
       "    .dataframe tbody tr th:only-of-type {\n",
       "        vertical-align: middle;\n",
       "    }\n",
       "\n",
       "    .dataframe tbody tr th {\n",
       "        vertical-align: top;\n",
       "    }\n",
       "\n",
       "    .dataframe thead th {\n",
       "        text-align: right;\n",
       "    }\n",
       "</style>\n",
       "<table border=\"1\" class=\"dataframe\">\n",
       "  <thead>\n",
       "    <tr style=\"text-align: right;\">\n",
       "      <th>cabin_letter</th>\n",
       "      <th>A</th>\n",
       "      <th>B</th>\n",
       "      <th>C</th>\n",
       "      <th>D</th>\n",
       "      <th>E</th>\n",
       "      <th>F</th>\n",
       "      <th>G</th>\n",
       "      <th>n</th>\n",
       "    </tr>\n",
       "  </thead>\n",
       "  <tbody>\n",
       "    <tr>\n",
       "      <th>Name</th>\n",
       "      <td>7</td>\n",
       "      <td>18</td>\n",
       "      <td>35</td>\n",
       "      <td>13</td>\n",
       "      <td>9</td>\n",
       "      <td>8</td>\n",
       "      <td>1</td>\n",
       "      <td>327</td>\n",
       "    </tr>\n",
       "  </tbody>\n",
       "</table>\n",
       "</div>"
      ],
      "text/plain": [
       "cabin_letter  A   B   C   D  E  F  G    n\n",
       "Name          7  18  35  13  9  8  1  327"
      ]
     },
     "execution_count": 19,
     "metadata": {},
     "output_type": "execute_result"
    }
   ],
   "source": [
    "#null values are considered to be a seperate category\n",
    "\n",
    "train_data['cabin_letter']=train_data.Cabin.apply(lambda x:str(x)[0])\n",
    "\n",
    "print(train_data.cabin_letter.value_counts())\n",
    "pd.pivot_table(train_data,index='Survived',columns='cabin_letter',values='Name',aggfunc='count')\n",
    "\n",
    "test_data['cabin_letter']=test_data.Cabin.apply(lambda x:str(x)[0])\n",
    "\n",
    "print(test_data.cabin_letter.value_counts())\n",
    "pd.pivot_table(test_data,columns='cabin_letter',values='Name',aggfunc='count')"
   ]
  },
  {
   "cell_type": "markdown",
   "id": "511fb50d",
   "metadata": {
    "papermill": {
     "duration": 0.020314,
     "end_time": "2023-08-13T22:20:09.589652",
     "exception": false,
     "start_time": "2023-08-13T22:20:09.569338",
     "status": "completed"
    },
    "tags": []
   },
   "source": [
    "When it comes to tickets column we see few are numberic and few alphanumeric/non-numeric.\n",
    "So, let's simply divide the ticket column into numeric and non-numeric for better understanding."
   ]
  },
  {
   "cell_type": "code",
   "execution_count": 20,
   "id": "8bf29bd4",
   "metadata": {
    "execution": {
     "iopub.execute_input": "2023-08-13T22:20:09.633397Z",
     "iopub.status.busy": "2023-08-13T22:20:09.632372Z",
     "iopub.status.idle": "2023-08-13T22:20:09.648130Z",
     "shell.execute_reply": "2023-08-13T22:20:09.647230Z"
    },
    "papermill": {
     "duration": 0.040585,
     "end_time": "2023-08-13T22:20:09.650857",
     "exception": false,
     "start_time": "2023-08-13T22:20:09.610272",
     "status": "completed"
    },
    "tags": []
   },
   "outputs": [],
   "source": [
    "train_data['num_ticket']=train_data.Ticket.apply(lambda x:1 if x.isnumeric() else 0)\n",
    "train_data['nonum_ticket']=train_data.Ticket.apply(lambda x:''.join(x.split(' ')[:-1]).replace('.','').replace('/','').lower() if len(x.split(' ')[:-1])>0 else 0)\n",
    "\n",
    "test_data['num_ticket']=train_data.Ticket.apply(lambda x:1 if x.isnumeric() else 0)\n",
    "test_data['nonum_ticket']=train_data.Ticket.apply(lambda x:''.join(x.split(' ')[:-1]).replace('.','').replace('/','').lower() if len(x.split(' ')[:-1])>0 else 0)"
   ]
  },
  {
   "cell_type": "markdown",
   "id": "900e2ec7",
   "metadata": {
    "papermill": {
     "duration": 0.020518,
     "end_time": "2023-08-13T22:20:09.692269",
     "exception": false,
     "start_time": "2023-08-13T22:20:09.671751",
     "status": "completed"
    },
    "tags": []
   },
   "source": [
    "We can also look into the passenger's title and if it had influenced in getting a seat in the ship."
   ]
  },
  {
   "cell_type": "code",
   "execution_count": 21,
   "id": "1c71dfb3",
   "metadata": {
    "execution": {
     "iopub.execute_input": "2023-08-13T22:20:09.736020Z",
     "iopub.status.busy": "2023-08-13T22:20:09.735218Z",
     "iopub.status.idle": "2023-08-13T22:20:09.751141Z",
     "shell.execute_reply": "2023-08-13T22:20:09.750006Z"
    },
    "papermill": {
     "duration": 0.040403,
     "end_time": "2023-08-13T22:20:09.753547",
     "exception": false,
     "start_time": "2023-08-13T22:20:09.713144",
     "status": "completed"
    },
    "tags": []
   },
   "outputs": [
    {
     "data": {
      "text/plain": [
       "Mr        228\n",
       "Miss      101\n",
       "Mrs        58\n",
       "Master     23\n",
       "Rev         3\n",
       "Dr          3\n",
       "Don         1\n",
       "Mme         1\n",
       "Name: title, dtype: int64"
      ]
     },
     "execution_count": 21,
     "metadata": {},
     "output_type": "execute_result"
    }
   ],
   "source": [
    "train_data.Name.head(50)\n",
    "train_data['title']=train_data.Name.apply(lambda x: x.split(',')[1].split('.')[0].strip())\n",
    "\n",
    "train_data['title'].value_counts()\n",
    "\n",
    "test_data.Name.head(50)\n",
    "test_data['title']=train_data.Name.apply(lambda x: x.split(',')[1].split('.')[0].strip())\n",
    "\n",
    "test_data['title'].value_counts()"
   ]
  },
  {
   "cell_type": "markdown",
   "id": "7c43e740",
   "metadata": {
    "papermill": {
     "duration": 0.020508,
     "end_time": "2023-08-13T22:20:09.795182",
     "exception": false,
     "start_time": "2023-08-13T22:20:09.774674",
     "status": "completed"
    },
    "tags": []
   },
   "source": [
    "Woah, the ship was boarded by people of many different classes. So, let's consider this..."
   ]
  },
  {
   "cell_type": "markdown",
   "id": "c86e0dca",
   "metadata": {
    "papermill": {
     "duration": 0.020887,
     "end_time": "2023-08-13T22:20:09.836764",
     "exception": false,
     "start_time": "2023-08-13T22:20:09.815877",
     "status": "completed"
    },
    "tags": []
   },
   "source": [
    "**Voila! It's time for Data Pre-Processing...**"
   ]
  },
  {
   "cell_type": "markdown",
   "id": "f2787283",
   "metadata": {
    "papermill": {
     "duration": 0.02061,
     "end_time": "2023-08-13T22:20:09.878762",
     "exception": false,
     "start_time": "2023-08-13T22:20:09.858152",
     "status": "completed"
    },
    "tags": []
   },
   "source": [
    "Firstly, let's drop the null values from the 'Embarked' column"
   ]
  },
  {
   "cell_type": "code",
   "execution_count": 22,
   "id": "d301afd3",
   "metadata": {
    "execution": {
     "iopub.execute_input": "2023-08-13T22:20:09.922021Z",
     "iopub.status.busy": "2023-08-13T22:20:09.921660Z",
     "iopub.status.idle": "2023-08-13T22:20:09.932734Z",
     "shell.execute_reply": "2023-08-13T22:20:09.931701Z"
    },
    "papermill": {
     "duration": 0.03551,
     "end_time": "2023-08-13T22:20:09.935180",
     "exception": false,
     "start_time": "2023-08-13T22:20:09.899670",
     "status": "completed"
    },
    "tags": []
   },
   "outputs": [],
   "source": [
    "train_data.dropna(subset=['Embarked'], inplace=True)\n",
    "test_data.dropna(subset=['Embarked'], inplace=True)"
   ]
  },
  {
   "cell_type": "code",
   "execution_count": 23,
   "id": "c3a56d92",
   "metadata": {
    "execution": {
     "iopub.execute_input": "2023-08-13T22:20:09.979008Z",
     "iopub.status.busy": "2023-08-13T22:20:09.978636Z",
     "iopub.status.idle": "2023-08-13T22:20:09.984557Z",
     "shell.execute_reply": "2023-08-13T22:20:09.983565Z"
    },
    "papermill": {
     "duration": 0.030851,
     "end_time": "2023-08-13T22:20:09.986668",
     "exception": false,
     "start_time": "2023-08-13T22:20:09.955817",
     "status": "completed"
    },
    "tags": []
   },
   "outputs": [
    {
     "data": {
      "text/plain": [
       "(889, 17)"
      ]
     },
     "execution_count": 23,
     "metadata": {},
     "output_type": "execute_result"
    }
   ],
   "source": [
    "train_data.shape"
   ]
  },
  {
   "cell_type": "code",
   "execution_count": 24,
   "id": "80932390",
   "metadata": {
    "execution": {
     "iopub.execute_input": "2023-08-13T22:20:10.030691Z",
     "iopub.status.busy": "2023-08-13T22:20:10.030271Z",
     "iopub.status.idle": "2023-08-13T22:20:10.036755Z",
     "shell.execute_reply": "2023-08-13T22:20:10.035730Z"
    },
    "papermill": {
     "duration": 0.031377,
     "end_time": "2023-08-13T22:20:10.038867",
     "exception": false,
     "start_time": "2023-08-13T22:20:10.007490",
     "status": "completed"
    },
    "tags": []
   },
   "outputs": [
    {
     "data": {
      "text/plain": [
       "(418, 16)"
      ]
     },
     "execution_count": 24,
     "metadata": {},
     "output_type": "execute_result"
    }
   ],
   "source": [
    "test_data.shape"
   ]
  },
  {
   "cell_type": "markdown",
   "id": "3823ca37",
   "metadata": {
    "papermill": {
     "duration": 0.020667,
     "end_time": "2023-08-13T22:20:10.080581",
     "exception": false,
     "start_time": "2023-08-13T22:20:10.059914",
     "status": "completed"
    },
    "tags": []
   },
   "source": [
    "**Now, let's transform all of the categorical columns**"
   ]
  },
  {
   "cell_type": "code",
   "execution_count": 25,
   "id": "7b755f04",
   "metadata": {
    "execution": {
     "iopub.execute_input": "2023-08-13T22:20:10.125145Z",
     "iopub.status.busy": "2023-08-13T22:20:10.124694Z",
     "iopub.status.idle": "2023-08-13T22:20:10.293757Z",
     "shell.execute_reply": "2023-08-13T22:20:10.292644Z"
    },
    "papermill": {
     "duration": 0.19426,
     "end_time": "2023-08-13T22:20:10.296366",
     "exception": false,
     "start_time": "2023-08-13T22:20:10.102106",
     "status": "completed"
    },
    "tags": []
   },
   "outputs": [],
   "source": [
    "from sklearn.preprocessing import LabelEncoder\n",
    "le1=LabelEncoder()\n",
    "\n",
    "for i in cat_data:\n",
    "    if i in train_data.columns:\n",
    "        train_data[i]=le1.fit_transform(train_data[i])\n",
    "\n",
    "le2=LabelEncoder()\n",
    "\n",
    "for i in cat_data:\n",
    "    if i in test_data.columns:\n",
    "        test_data[i]=le2.fit_transform(test_data[i])"
   ]
  },
  {
   "cell_type": "code",
   "execution_count": 26,
   "id": "123dfe3e",
   "metadata": {
    "execution": {
     "iopub.execute_input": "2023-08-13T22:20:10.340174Z",
     "iopub.status.busy": "2023-08-13T22:20:10.339799Z",
     "iopub.status.idle": "2023-08-13T22:20:10.357883Z",
     "shell.execute_reply": "2023-08-13T22:20:10.356627Z"
    },
    "papermill": {
     "duration": 0.042366,
     "end_time": "2023-08-13T22:20:10.359988",
     "exception": false,
     "start_time": "2023-08-13T22:20:10.317622",
     "status": "completed"
    },
    "tags": []
   },
   "outputs": [
    {
     "data": {
      "text/html": [
       "<div>\n",
       "<style scoped>\n",
       "    .dataframe tbody tr th:only-of-type {\n",
       "        vertical-align: middle;\n",
       "    }\n",
       "\n",
       "    .dataframe tbody tr th {\n",
       "        vertical-align: top;\n",
       "    }\n",
       "\n",
       "    .dataframe thead th {\n",
       "        text-align: right;\n",
       "    }\n",
       "</style>\n",
       "<table border=\"1\" class=\"dataframe\">\n",
       "  <thead>\n",
       "    <tr style=\"text-align: right;\">\n",
       "      <th></th>\n",
       "      <th>PassengerId</th>\n",
       "      <th>Survived</th>\n",
       "      <th>Pclass</th>\n",
       "      <th>Name</th>\n",
       "      <th>Sex</th>\n",
       "      <th>Age</th>\n",
       "      <th>SibSp</th>\n",
       "      <th>Parch</th>\n",
       "      <th>Ticket</th>\n",
       "      <th>Fare</th>\n",
       "      <th>Cabin</th>\n",
       "      <th>Embarked</th>\n",
       "      <th>multiple_cabins</th>\n",
       "      <th>cabin_letter</th>\n",
       "      <th>num_ticket</th>\n",
       "      <th>nonum_ticket</th>\n",
       "      <th>title</th>\n",
       "    </tr>\n",
       "  </thead>\n",
       "  <tbody>\n",
       "    <tr>\n",
       "      <th>0</th>\n",
       "      <td>1</td>\n",
       "      <td>0</td>\n",
       "      <td>2</td>\n",
       "      <td>Braund, Mr. Owen Harris</td>\n",
       "      <td>1</td>\n",
       "      <td>22.0</td>\n",
       "      <td>1</td>\n",
       "      <td>0</td>\n",
       "      <td>522</td>\n",
       "      <td>7.2500</td>\n",
       "      <td>146</td>\n",
       "      <td>2</td>\n",
       "      <td>0</td>\n",
       "      <td>n</td>\n",
       "      <td>0</td>\n",
       "      <td>a5</td>\n",
       "      <td>Mr</td>\n",
       "    </tr>\n",
       "    <tr>\n",
       "      <th>1</th>\n",
       "      <td>2</td>\n",
       "      <td>1</td>\n",
       "      <td>0</td>\n",
       "      <td>Cumings, Mrs. John Bradley (Florence Briggs Th...</td>\n",
       "      <td>0</td>\n",
       "      <td>38.0</td>\n",
       "      <td>1</td>\n",
       "      <td>0</td>\n",
       "      <td>595</td>\n",
       "      <td>71.2833</td>\n",
       "      <td>80</td>\n",
       "      <td>0</td>\n",
       "      <td>1</td>\n",
       "      <td>C</td>\n",
       "      <td>0</td>\n",
       "      <td>pc</td>\n",
       "      <td>Mrs</td>\n",
       "    </tr>\n",
       "    <tr>\n",
       "      <th>2</th>\n",
       "      <td>3</td>\n",
       "      <td>1</td>\n",
       "      <td>2</td>\n",
       "      <td>Heikkinen, Miss. Laina</td>\n",
       "      <td>0</td>\n",
       "      <td>26.0</td>\n",
       "      <td>0</td>\n",
       "      <td>0</td>\n",
       "      <td>668</td>\n",
       "      <td>7.9250</td>\n",
       "      <td>146</td>\n",
       "      <td>2</td>\n",
       "      <td>0</td>\n",
       "      <td>n</td>\n",
       "      <td>0</td>\n",
       "      <td>stono2</td>\n",
       "      <td>Miss</td>\n",
       "    </tr>\n",
       "    <tr>\n",
       "      <th>3</th>\n",
       "      <td>4</td>\n",
       "      <td>1</td>\n",
       "      <td>0</td>\n",
       "      <td>Futrelle, Mrs. Jacques Heath (Lily May Peel)</td>\n",
       "      <td>0</td>\n",
       "      <td>35.0</td>\n",
       "      <td>1</td>\n",
       "      <td>0</td>\n",
       "      <td>48</td>\n",
       "      <td>53.1000</td>\n",
       "      <td>54</td>\n",
       "      <td>2</td>\n",
       "      <td>1</td>\n",
       "      <td>C</td>\n",
       "      <td>1</td>\n",
       "      <td>0</td>\n",
       "      <td>Mrs</td>\n",
       "    </tr>\n",
       "    <tr>\n",
       "      <th>4</th>\n",
       "      <td>5</td>\n",
       "      <td>0</td>\n",
       "      <td>2</td>\n",
       "      <td>Allen, Mr. William Henry</td>\n",
       "      <td>1</td>\n",
       "      <td>35.0</td>\n",
       "      <td>0</td>\n",
       "      <td>0</td>\n",
       "      <td>471</td>\n",
       "      <td>8.0500</td>\n",
       "      <td>146</td>\n",
       "      <td>2</td>\n",
       "      <td>0</td>\n",
       "      <td>n</td>\n",
       "      <td>1</td>\n",
       "      <td>0</td>\n",
       "      <td>Mr</td>\n",
       "    </tr>\n",
       "  </tbody>\n",
       "</table>\n",
       "</div>"
      ],
      "text/plain": [
       "   PassengerId  Survived  Pclass  \\\n",
       "0            1         0       2   \n",
       "1            2         1       0   \n",
       "2            3         1       2   \n",
       "3            4         1       0   \n",
       "4            5         0       2   \n",
       "\n",
       "                                                Name  Sex   Age  SibSp  Parch  \\\n",
       "0                            Braund, Mr. Owen Harris    1  22.0      1      0   \n",
       "1  Cumings, Mrs. John Bradley (Florence Briggs Th...    0  38.0      1      0   \n",
       "2                             Heikkinen, Miss. Laina    0  26.0      0      0   \n",
       "3       Futrelle, Mrs. Jacques Heath (Lily May Peel)    0  35.0      1      0   \n",
       "4                           Allen, Mr. William Henry    1  35.0      0      0   \n",
       "\n",
       "   Ticket     Fare  Cabin  Embarked  multiple_cabins cabin_letter  num_ticket  \\\n",
       "0     522   7.2500    146         2                0            n           0   \n",
       "1     595  71.2833     80         0                1            C           0   \n",
       "2     668   7.9250    146         2                0            n           0   \n",
       "3      48  53.1000     54         2                1            C           1   \n",
       "4     471   8.0500    146         2                0            n           1   \n",
       "\n",
       "  nonum_ticket title  \n",
       "0           a5    Mr  \n",
       "1           pc   Mrs  \n",
       "2       stono2  Miss  \n",
       "3            0   Mrs  \n",
       "4            0    Mr  "
      ]
     },
     "execution_count": 26,
     "metadata": {},
     "output_type": "execute_result"
    }
   ],
   "source": [
    "train_data.head()"
   ]
  },
  {
   "cell_type": "markdown",
   "id": "33be1d43",
   "metadata": {
    "papermill": {
     "duration": 0.020873,
     "end_time": "2023-08-13T22:20:10.403538",
     "exception": false,
     "start_time": "2023-08-13T22:20:10.382665",
     "status": "completed"
    },
    "tags": []
   },
   "source": [
    "Now, let's impute data with the central tendencies for 'Age' and 'Fare'."
   ]
  },
  {
   "cell_type": "code",
   "execution_count": 27,
   "id": "8c1fae6f",
   "metadata": {
    "execution": {
     "iopub.execute_input": "2023-08-13T22:20:10.447605Z",
     "iopub.status.busy": "2023-08-13T22:20:10.447191Z",
     "iopub.status.idle": "2023-08-13T22:20:10.799183Z",
     "shell.execute_reply": "2023-08-13T22:20:10.798043Z"
    },
    "papermill": {
     "duration": 0.377156,
     "end_time": "2023-08-13T22:20:10.801762",
     "exception": false,
     "start_time": "2023-08-13T22:20:10.424606",
     "status": "completed"
    },
    "tags": []
   },
   "outputs": [
    {
     "data": {
      "image/png": "[encoded data removed]",
      "text/plain": [
       "<Figure size 1000x600 with 1 Axes>"
      ]
     },
     "metadata": {},
     "output_type": "display_data"
    },
    {
     "data": {
      "image/png": "[encoded data removed]",
      "text/plain": [
       "<Figure size 1000x600 with 1 Axes>"
      ]
     },
     "metadata": {},
     "output_type": "display_data"
    }
   ],
   "source": [
    "#boxplot to check for outliers in the age column\n",
    "plt.figure(figsize=(10, 6))\n",
    "sns.boxplot(data=titanic_data, y='Age')\n",
    "plt.title('Box Plot of Age')\n",
    "plt.show()\n",
    "\n",
    "#boxplot to check for outliers in the fare column\n",
    "plt.figure(figsize=(10, 6))\n",
    "sns.boxplot(data=titanic_data, y='Fare')\n",
    "plt.title('Box Plot of Fare')\n",
    "plt.show()"
   ]
  },
  {
   "cell_type": "markdown",
   "id": "d5b659df",
   "metadata": {
    "papermill": {
     "duration": 0.021822,
     "end_time": "2023-08-13T22:20:10.847137",
     "exception": false,
     "start_time": "2023-08-13T22:20:10.825315",
     "status": "completed"
    },
    "tags": []
   },
   "source": [
    "We can see outliers mostly in the 'Fare' column.\n",
    "\n",
    "Generally, median is replaced for column with more outliers.\n",
    "So, for 'Age' it's better to replace with the mean and for 'Fare' column with the median.\n",
    "\n",
    "So, let's go!!!"
   ]
  },
  {
   "cell_type": "code",
   "execution_count": 28,
   "id": "2df87bc4",
   "metadata": {
    "execution": {
     "iopub.execute_input": "2023-08-13T22:20:10.893226Z",
     "iopub.status.busy": "2023-08-13T22:20:10.892845Z",
     "iopub.status.idle": "2023-08-13T22:20:10.903182Z",
     "shell.execute_reply": "2023-08-13T22:20:10.902140Z"
    },
    "papermill": {
     "duration": 0.035762,
     "end_time": "2023-08-13T22:20:10.905405",
     "exception": false,
     "start_time": "2023-08-13T22:20:10.869643",
     "status": "completed"
    },
    "tags": []
   },
   "outputs": [],
   "source": [
    "#calculating central tendencies\n",
    "mean_age=train_data['Age'].mean()\n",
    "median_fare=train_data['Fare'].median()\n",
    "\n",
    "#imputing missing values with the calculated central tendencies\n",
    "train_data['Age'].fillna(mean_age,inplace=True)\n",
    "train_data['Fare'].fillna(median_fare,inplace=True)\n",
    "\n",
    "mean_age=test_data['Age'].mean()\n",
    "median_fare=test_data['Fare'].median()\n",
    "\n",
    "#imputing missing values with the calculated central tendencies\n",
    "test_data['Age'].fillna(mean_age,inplace=True)\n",
    "test_data['Fare'].fillna(median_fare,inplace=True)"
   ]
  },
  {
   "cell_type": "markdown",
   "id": "692de097",
   "metadata": {
    "papermill": {
     "duration": 0.021353,
     "end_time": "2023-08-13T22:20:10.948455",
     "exception": false,
     "start_time": "2023-08-13T22:20:10.927102",
     "status": "completed"
    },
    "tags": []
   },
   "source": [
    "The 'Fare' column still requires normalization and we gonna do it using MinMaxScaler module from Scikit-Learn library"
   ]
  },
  {
   "cell_type": "markdown",
   "id": "ba022ced",
   "metadata": {
    "papermill": {
     "duration": 0.021727,
     "end_time": "2023-08-13T22:20:10.991881",
     "exception": false,
     "start_time": "2023-08-13T22:20:10.970154",
     "status": "completed"
    },
    "tags": []
   },
   "source": [
    "An important point to note, we generally use MinMaxScaler when there are too many outliers. So, it is the better option for the 'Fare' column"
   ]
  },
  {
   "cell_type": "code",
   "execution_count": 29,
   "id": "ff7c04ed",
   "metadata": {
    "execution": {
     "iopub.execute_input": "2023-08-13T22:20:11.037454Z",
     "iopub.status.busy": "2023-08-13T22:20:11.037070Z",
     "iopub.status.idle": "2023-08-13T22:20:11.044777Z",
     "shell.execute_reply": "2023-08-13T22:20:11.043848Z"
    },
    "papermill": {
     "duration": 0.032998,
     "end_time": "2023-08-13T22:20:11.046723",
     "exception": false,
     "start_time": "2023-08-13T22:20:11.013725",
     "status": "completed"
    },
    "tags": []
   },
   "outputs": [],
   "source": [
    "from sklearn.preprocessing import MinMaxScaler\n",
    "scaler=MinMaxScaler()\n",
    "\n",
    "train_data['Fare']=scaler.fit_transform(train_data['Fare'].values.reshape(-1,1))\n",
    "test_data['Fare']=scaler.fit_transform(test_data['Fare'].values.reshape(-1,1))"
   ]
  },
  {
   "cell_type": "code",
   "execution_count": 30,
   "id": "40efc4a2",
   "metadata": {
    "execution": {
     "iopub.execute_input": "2023-08-13T22:20:11.092532Z",
     "iopub.status.busy": "2023-08-13T22:20:11.091840Z",
     "iopub.status.idle": "2023-08-13T22:20:11.319326Z",
     "shell.execute_reply": "2023-08-13T22:20:11.318500Z"
    },
    "papermill": {
     "duration": 0.252685,
     "end_time": "2023-08-13T22:20:11.321530",
     "exception": false,
     "start_time": "2023-08-13T22:20:11.068845",
     "status": "completed"
    },
    "tags": []
   },
   "outputs": [
    {
     "data": {
      "image/png": "[encoded data removed]",
      "text/plain": [
       "<Figure size 1000x600 with 1 Axes>"
      ]
     },
     "metadata": {},
     "output_type": "display_data"
    }
   ],
   "source": [
    "# Create a line plot to visualize the normalization\n",
    "plt.figure(figsize=(10, 6))\n",
    "\n",
    "plt.plot(train_data['Fare'], label='Scaled Fare')\n",
    "plt.xlabel('Data Point')\n",
    "plt.ylabel('Fare')\n",
    "plt.title('Scaled Fare')\n",
    "\n",
    "plt.show()"
   ]
  },
  {
   "cell_type": "code",
   "execution_count": 31,
   "id": "03fe0e56",
   "metadata": {
    "execution": {
     "iopub.execute_input": "2023-08-13T22:20:11.369200Z",
     "iopub.status.busy": "2023-08-13T22:20:11.368354Z",
     "iopub.status.idle": "2023-08-13T22:20:11.387687Z",
     "shell.execute_reply": "2023-08-13T22:20:11.386501Z"
    },
    "papermill": {
     "duration": 0.045728,
     "end_time": "2023-08-13T22:20:11.390155",
     "exception": false,
     "start_time": "2023-08-13T22:20:11.344427",
     "status": "completed"
    },
    "tags": []
   },
   "outputs": [
    {
     "data": {
      "text/html": [
       "<div>\n",
       "<style scoped>\n",
       "    .dataframe tbody tr th:only-of-type {\n",
       "        vertical-align: middle;\n",
       "    }\n",
       "\n",
       "    .dataframe tbody tr th {\n",
       "        vertical-align: top;\n",
       "    }\n",
       "\n",
       "    .dataframe thead th {\n",
       "        text-align: right;\n",
       "    }\n",
       "</style>\n",
       "<table border=\"1\" class=\"dataframe\">\n",
       "  <thead>\n",
       "    <tr style=\"text-align: right;\">\n",
       "      <th></th>\n",
       "      <th>PassengerId</th>\n",
       "      <th>Survived</th>\n",
       "      <th>Pclass</th>\n",
       "      <th>Name</th>\n",
       "      <th>Sex</th>\n",
       "      <th>Age</th>\n",
       "      <th>SibSp</th>\n",
       "      <th>Parch</th>\n",
       "      <th>Ticket</th>\n",
       "      <th>Fare</th>\n",
       "      <th>Cabin</th>\n",
       "      <th>Embarked</th>\n",
       "      <th>multiple_cabins</th>\n",
       "      <th>cabin_letter</th>\n",
       "      <th>num_ticket</th>\n",
       "      <th>nonum_ticket</th>\n",
       "      <th>title</th>\n",
       "    </tr>\n",
       "  </thead>\n",
       "  <tbody>\n",
       "    <tr>\n",
       "      <th>0</th>\n",
       "      <td>1</td>\n",
       "      <td>0</td>\n",
       "      <td>2</td>\n",
       "      <td>Braund, Mr. Owen Harris</td>\n",
       "      <td>1</td>\n",
       "      <td>22.0</td>\n",
       "      <td>1</td>\n",
       "      <td>0</td>\n",
       "      <td>522</td>\n",
       "      <td>0.014151</td>\n",
       "      <td>146</td>\n",
       "      <td>2</td>\n",
       "      <td>0</td>\n",
       "      <td>n</td>\n",
       "      <td>0</td>\n",
       "      <td>a5</td>\n",
       "      <td>Mr</td>\n",
       "    </tr>\n",
       "    <tr>\n",
       "      <th>1</th>\n",
       "      <td>2</td>\n",
       "      <td>1</td>\n",
       "      <td>0</td>\n",
       "      <td>Cumings, Mrs. John Bradley (Florence Briggs Th...</td>\n",
       "      <td>0</td>\n",
       "      <td>38.0</td>\n",
       "      <td>1</td>\n",
       "      <td>0</td>\n",
       "      <td>595</td>\n",
       "      <td>0.139136</td>\n",
       "      <td>80</td>\n",
       "      <td>0</td>\n",
       "      <td>1</td>\n",
       "      <td>C</td>\n",
       "      <td>0</td>\n",
       "      <td>pc</td>\n",
       "      <td>Mrs</td>\n",
       "    </tr>\n",
       "    <tr>\n",
       "      <th>2</th>\n",
       "      <td>3</td>\n",
       "      <td>1</td>\n",
       "      <td>2</td>\n",
       "      <td>Heikkinen, Miss. Laina</td>\n",
       "      <td>0</td>\n",
       "      <td>26.0</td>\n",
       "      <td>0</td>\n",
       "      <td>0</td>\n",
       "      <td>668</td>\n",
       "      <td>0.015469</td>\n",
       "      <td>146</td>\n",
       "      <td>2</td>\n",
       "      <td>0</td>\n",
       "      <td>n</td>\n",
       "      <td>0</td>\n",
       "      <td>stono2</td>\n",
       "      <td>Miss</td>\n",
       "    </tr>\n",
       "    <tr>\n",
       "      <th>3</th>\n",
       "      <td>4</td>\n",
       "      <td>1</td>\n",
       "      <td>0</td>\n",
       "      <td>Futrelle, Mrs. Jacques Heath (Lily May Peel)</td>\n",
       "      <td>0</td>\n",
       "      <td>35.0</td>\n",
       "      <td>1</td>\n",
       "      <td>0</td>\n",
       "      <td>48</td>\n",
       "      <td>0.103644</td>\n",
       "      <td>54</td>\n",
       "      <td>2</td>\n",
       "      <td>1</td>\n",
       "      <td>C</td>\n",
       "      <td>1</td>\n",
       "      <td>0</td>\n",
       "      <td>Mrs</td>\n",
       "    </tr>\n",
       "    <tr>\n",
       "      <th>4</th>\n",
       "      <td>5</td>\n",
       "      <td>0</td>\n",
       "      <td>2</td>\n",
       "      <td>Allen, Mr. William Henry</td>\n",
       "      <td>1</td>\n",
       "      <td>35.0</td>\n",
       "      <td>0</td>\n",
       "      <td>0</td>\n",
       "      <td>471</td>\n",
       "      <td>0.015713</td>\n",
       "      <td>146</td>\n",
       "      <td>2</td>\n",
       "      <td>0</td>\n",
       "      <td>n</td>\n",
       "      <td>1</td>\n",
       "      <td>0</td>\n",
       "      <td>Mr</td>\n",
       "    </tr>\n",
       "  </tbody>\n",
       "</table>\n",
       "</div>"
      ],
      "text/plain": [
       "   PassengerId  Survived  Pclass  \\\n",
       "0            1         0       2   \n",
       "1            2         1       0   \n",
       "2            3         1       2   \n",
       "3            4         1       0   \n",
       "4            5         0       2   \n",
       "\n",
       "                                                Name  Sex   Age  SibSp  Parch  \\\n",
       "0                            Braund, Mr. Owen Harris    1  22.0      1      0   \n",
       "1  Cumings, Mrs. John Bradley (Florence Briggs Th...    0  38.0      1      0   \n",
       "2                             Heikkinen, Miss. Laina    0  26.0      0      0   \n",
       "3       Futrelle, Mrs. Jacques Heath (Lily May Peel)    0  35.0      1      0   \n",
       "4                           Allen, Mr. William Henry    1  35.0      0      0   \n",
       "\n",
       "   Ticket      Fare  Cabin  Embarked  multiple_cabins cabin_letter  \\\n",
       "0     522  0.014151    146         2                0            n   \n",
       "1     595  0.139136     80         0                1            C   \n",
       "2     668  0.015469    146         2                0            n   \n",
       "3      48  0.103644     54         2                1            C   \n",
       "4     471  0.015713    146         2                0            n   \n",
       "\n",
       "   num_ticket nonum_ticket title  \n",
       "0           0           a5    Mr  \n",
       "1           0           pc   Mrs  \n",
       "2           0       stono2  Miss  \n",
       "3           1            0   Mrs  \n",
       "4           1            0    Mr  "
      ]
     },
     "execution_count": 31,
     "metadata": {},
     "output_type": "execute_result"
    }
   ],
   "source": [
    "train_data.head()"
   ]
  },
  {
   "cell_type": "markdown",
   "id": "60223be2",
   "metadata": {
    "papermill": {
     "duration": 0.023249,
     "end_time": "2023-08-13T22:20:11.436508",
     "exception": false,
     "start_time": "2023-08-13T22:20:11.413259",
     "status": "completed"
    },
    "tags": []
   },
   "source": [
    "So you see here, the 'Fare' column is finally scaled."
   ]
  },
  {
   "cell_type": "markdown",
   "id": "51caa32c",
   "metadata": {
    "papermill": {
     "duration": 0.023085,
     "end_time": "2023-08-13T22:20:11.482561",
     "exception": false,
     "start_time": "2023-08-13T22:20:11.459476",
     "status": "completed"
    },
    "tags": []
   },
   "source": [
    "Also, let's scale the other columns using StandardScaler. It scales data between 0 and 1."
   ]
  },
  {
   "cell_type": "code",
   "execution_count": 32,
   "id": "5b55c381",
   "metadata": {
    "execution": {
     "iopub.execute_input": "2023-08-13T22:20:11.531940Z",
     "iopub.status.busy": "2023-08-13T22:20:11.531263Z",
     "iopub.status.idle": "2023-08-13T22:20:11.547316Z",
     "shell.execute_reply": "2023-08-13T22:20:11.546460Z"
    },
    "papermill": {
     "duration": 0.043266,
     "end_time": "2023-08-13T22:20:11.549697",
     "exception": false,
     "start_time": "2023-08-13T22:20:11.506431",
     "status": "completed"
    },
    "tags": []
   },
   "outputs": [],
   "source": [
    "from sklearn.preprocessing import StandardScaler\n",
    "\n",
    "colmns_to_scale=['Age','SibSp','Parch']\n",
    "\n",
    "scale1=StandardScaler()\n",
    "train_data[colmns_to_scale]=scale1.fit_transform(train_data[colmns_to_scale])\n",
    "scale2=StandardScaler()\n",
    "test_data[colmns_to_scale]=scale2.fit_transform(test_data[colmns_to_scale])\n"
   ]
  },
  {
   "cell_type": "code",
   "execution_count": 33,
   "id": "98be228c",
   "metadata": {
    "execution": {
     "iopub.execute_input": "2023-08-13T22:20:11.598169Z",
     "iopub.status.busy": "2023-08-13T22:20:11.597534Z",
     "iopub.status.idle": "2023-08-13T22:20:11.606244Z",
     "shell.execute_reply": "2023-08-13T22:20:11.605487Z"
    },
    "papermill": {
     "duration": 0.035315,
     "end_time": "2023-08-13T22:20:11.608389",
     "exception": false,
     "start_time": "2023-08-13T22:20:11.573074",
     "status": "completed"
    },
    "tags": []
   },
   "outputs": [],
   "source": [
    "from sklearn.preprocessing import LabelEncoder\n",
    "col_enc=['cabin_letter','title']\n",
    "le3=LabelEncoder()\n",
    "for i in col_enc:\n",
    "    if i in train_data.columns:\n",
    "        train_data[i]=le3.fit_transform(train_data[i])\n",
    "\n",
    "le4=LabelEncoder()\n",
    "for i in col_enc:\n",
    "    if i in test_data.columns:\n",
    "        test_data[i]=le4.fit_transform(test_data[i])"
   ]
  },
  {
   "cell_type": "code",
   "execution_count": 34,
   "id": "d6f46fe8",
   "metadata": {
    "execution": {
     "iopub.execute_input": "2023-08-13T22:20:11.656323Z",
     "iopub.status.busy": "2023-08-13T22:20:11.655920Z",
     "iopub.status.idle": "2023-08-13T22:20:11.672928Z",
     "shell.execute_reply": "2023-08-13T22:20:11.671690Z"
    },
    "papermill": {
     "duration": 0.043489,
     "end_time": "2023-08-13T22:20:11.675045",
     "exception": false,
     "start_time": "2023-08-13T22:20:11.631556",
     "status": "completed"
    },
    "tags": []
   },
   "outputs": [
    {
     "data": {
      "text/html": [
       "<div>\n",
       "<style scoped>\n",
       "    .dataframe tbody tr th:only-of-type {\n",
       "        vertical-align: middle;\n",
       "    }\n",
       "\n",
       "    .dataframe tbody tr th {\n",
       "        vertical-align: top;\n",
       "    }\n",
       "\n",
       "    .dataframe thead th {\n",
       "        text-align: right;\n",
       "    }\n",
       "</style>\n",
       "<table border=\"1\" class=\"dataframe\">\n",
       "  <thead>\n",
       "    <tr style=\"text-align: right;\">\n",
       "      <th></th>\n",
       "      <th>PassengerId</th>\n",
       "      <th>Survived</th>\n",
       "      <th>Pclass</th>\n",
       "      <th>Name</th>\n",
       "      <th>Sex</th>\n",
       "      <th>Age</th>\n",
       "      <th>SibSp</th>\n",
       "      <th>Parch</th>\n",
       "      <th>Ticket</th>\n",
       "      <th>Fare</th>\n",
       "      <th>Cabin</th>\n",
       "      <th>Embarked</th>\n",
       "      <th>multiple_cabins</th>\n",
       "      <th>cabin_letter</th>\n",
       "      <th>num_ticket</th>\n",
       "      <th>nonum_ticket</th>\n",
       "      <th>title</th>\n",
       "    </tr>\n",
       "  </thead>\n",
       "  <tbody>\n",
       "    <tr>\n",
       "      <th>0</th>\n",
       "      <td>1</td>\n",
       "      <td>0</td>\n",
       "      <td>2</td>\n",
       "      <td>Braund, Mr. Owen Harris</td>\n",
       "      <td>1</td>\n",
       "      <td>-0.589620</td>\n",
       "      <td>0.431350</td>\n",
       "      <td>-0.474326</td>\n",
       "      <td>522</td>\n",
       "      <td>0.014151</td>\n",
       "      <td>146</td>\n",
       "      <td>2</td>\n",
       "      <td>0</td>\n",
       "      <td>8</td>\n",
       "      <td>0</td>\n",
       "      <td>a5</td>\n",
       "      <td>11</td>\n",
       "    </tr>\n",
       "    <tr>\n",
       "      <th>1</th>\n",
       "      <td>2</td>\n",
       "      <td>1</td>\n",
       "      <td>0</td>\n",
       "      <td>Cumings, Mrs. John Bradley (Florence Briggs Th...</td>\n",
       "      <td>0</td>\n",
       "      <td>0.644848</td>\n",
       "      <td>0.431350</td>\n",
       "      <td>-0.474326</td>\n",
       "      <td>595</td>\n",
       "      <td>0.139136</td>\n",
       "      <td>80</td>\n",
       "      <td>0</td>\n",
       "      <td>1</td>\n",
       "      <td>2</td>\n",
       "      <td>0</td>\n",
       "      <td>pc</td>\n",
       "      <td>12</td>\n",
       "    </tr>\n",
       "    <tr>\n",
       "      <th>2</th>\n",
       "      <td>3</td>\n",
       "      <td>1</td>\n",
       "      <td>2</td>\n",
       "      <td>Heikkinen, Miss. Laina</td>\n",
       "      <td>0</td>\n",
       "      <td>-0.281003</td>\n",
       "      <td>-0.475199</td>\n",
       "      <td>-0.474326</td>\n",
       "      <td>668</td>\n",
       "      <td>0.015469</td>\n",
       "      <td>146</td>\n",
       "      <td>2</td>\n",
       "      <td>0</td>\n",
       "      <td>8</td>\n",
       "      <td>0</td>\n",
       "      <td>stono2</td>\n",
       "      <td>8</td>\n",
       "    </tr>\n",
       "    <tr>\n",
       "      <th>3</th>\n",
       "      <td>4</td>\n",
       "      <td>1</td>\n",
       "      <td>0</td>\n",
       "      <td>Futrelle, Mrs. Jacques Heath (Lily May Peel)</td>\n",
       "      <td>0</td>\n",
       "      <td>0.413385</td>\n",
       "      <td>0.431350</td>\n",
       "      <td>-0.474326</td>\n",
       "      <td>48</td>\n",
       "      <td>0.103644</td>\n",
       "      <td>54</td>\n",
       "      <td>2</td>\n",
       "      <td>1</td>\n",
       "      <td>2</td>\n",
       "      <td>1</td>\n",
       "      <td>0</td>\n",
       "      <td>12</td>\n",
       "    </tr>\n",
       "    <tr>\n",
       "      <th>4</th>\n",
       "      <td>5</td>\n",
       "      <td>0</td>\n",
       "      <td>2</td>\n",
       "      <td>Allen, Mr. William Henry</td>\n",
       "      <td>1</td>\n",
       "      <td>0.413385</td>\n",
       "      <td>-0.475199</td>\n",
       "      <td>-0.474326</td>\n",
       "      <td>471</td>\n",
       "      <td>0.015713</td>\n",
       "      <td>146</td>\n",
       "      <td>2</td>\n",
       "      <td>0</td>\n",
       "      <td>8</td>\n",
       "      <td>1</td>\n",
       "      <td>0</td>\n",
       "      <td>11</td>\n",
       "    </tr>\n",
       "  </tbody>\n",
       "</table>\n",
       "</div>"
      ],
      "text/plain": [
       "   PassengerId  Survived  Pclass  \\\n",
       "0            1         0       2   \n",
       "1            2         1       0   \n",
       "2            3         1       2   \n",
       "3            4         1       0   \n",
       "4            5         0       2   \n",
       "\n",
       "                                                Name  Sex       Age     SibSp  \\\n",
       "0                            Braund, Mr. Owen Harris    1 -0.589620  0.431350   \n",
       "1  Cumings, Mrs. John Bradley (Florence Briggs Th...    0  0.644848  0.431350   \n",
       "2                             Heikkinen, Miss. Laina    0 -0.281003 -0.475199   \n",
       "3       Futrelle, Mrs. Jacques Heath (Lily May Peel)    0  0.413385  0.431350   \n",
       "4                           Allen, Mr. William Henry    1  0.413385 -0.475199   \n",
       "\n",
       "      Parch  Ticket      Fare  Cabin  Embarked  multiple_cabins  cabin_letter  \\\n",
       "0 -0.474326     522  0.014151    146         2                0             8   \n",
       "1 -0.474326     595  0.139136     80         0                1             2   \n",
       "2 -0.474326     668  0.015469    146         2                0             8   \n",
       "3 -0.474326      48  0.103644     54         2                1             2   \n",
       "4 -0.474326     471  0.015713    146         2                0             8   \n",
       "\n",
       "   num_ticket nonum_ticket  title  \n",
       "0           0           a5     11  \n",
       "1           0           pc     12  \n",
       "2           0       stono2      8  \n",
       "3           1            0     12  \n",
       "4           1            0     11  "
      ]
     },
     "execution_count": 34,
     "metadata": {},
     "output_type": "execute_result"
    }
   ],
   "source": [
    "train_data.head()"
   ]
  },
  {
   "cell_type": "markdown",
   "id": "daf99df8",
   "metadata": {
    "papermill": {
     "duration": 0.024035,
     "end_time": "2023-08-13T22:20:11.722966",
     "exception": false,
     "start_time": "2023-08-13T22:20:11.698931",
     "status": "completed"
    },
    "tags": []
   },
   "source": [
    "I hope the data is processed and good to go!"
   ]
  },
  {
   "cell_type": "markdown",
   "id": "6c6504c3",
   "metadata": {
    "papermill": {
     "duration": 0.024661,
     "end_time": "2023-08-13T22:20:11.770788",
     "exception": false,
     "start_time": "2023-08-13T22:20:11.746127",
     "status": "completed"
    },
    "tags": []
   },
   "source": [
    "MODEL DEPLOYMENT"
   ]
  },
  {
   "cell_type": "markdown",
   "id": "20815ca6",
   "metadata": {
    "papermill": {
     "duration": 0.023689,
     "end_time": "2023-08-13T22:20:11.817753",
     "exception": false,
     "start_time": "2023-08-13T22:20:11.794064",
     "status": "completed"
    },
    "tags": []
   },
   "source": [
    "Considering valid columns that contribute to the efficiency to our prediction model. And on such a data our model is trained"
   ]
  },
  {
   "cell_type": "code",
   "execution_count": 35,
   "id": "47f2559b",
   "metadata": {
    "execution": {
     "iopub.execute_input": "2023-08-13T22:20:11.866932Z",
     "iopub.status.busy": "2023-08-13T22:20:11.866563Z",
     "iopub.status.idle": "2023-08-13T22:20:11.873882Z",
     "shell.execute_reply": "2023-08-13T22:20:11.872726Z"
    },
    "papermill": {
     "duration": 0.034633,
     "end_time": "2023-08-13T22:20:11.875962",
     "exception": false,
     "start_time": "2023-08-13T22:20:11.841329",
     "status": "completed"
    },
    "tags": []
   },
   "outputs": [],
   "source": [
    "x_train=train_data.drop(columns=['Survived','Name','PassengerId','num_ticket','nonum_ticket'],axis=1)\n",
    "x_test=test_data.drop(columns=['Name','PassengerId','num_ticket','nonum_ticket'],axis=1)"
   ]
  },
  {
   "cell_type": "code",
   "execution_count": 36,
   "id": "6ea41018",
   "metadata": {
    "execution": {
     "iopub.execute_input": "2023-08-13T22:20:11.924607Z",
     "iopub.status.busy": "2023-08-13T22:20:11.924206Z",
     "iopub.status.idle": "2023-08-13T22:20:11.930799Z",
     "shell.execute_reply": "2023-08-13T22:20:11.929621Z"
    },
    "papermill": {
     "duration": 0.033289,
     "end_time": "2023-08-13T22:20:11.932893",
     "exception": false,
     "start_time": "2023-08-13T22:20:11.899604",
     "status": "completed"
    },
    "tags": []
   },
   "outputs": [
    {
     "data": {
      "text/plain": [
       "(889, 12)"
      ]
     },
     "execution_count": 36,
     "metadata": {},
     "output_type": "execute_result"
    }
   ],
   "source": [
    "x_train.shape"
   ]
  },
  {
   "cell_type": "code",
   "execution_count": 37,
   "id": "bdd753ce",
   "metadata": {
    "execution": {
     "iopub.execute_input": "2023-08-13T22:20:11.981432Z",
     "iopub.status.busy": "2023-08-13T22:20:11.980990Z",
     "iopub.status.idle": "2023-08-13T22:20:11.993951Z",
     "shell.execute_reply": "2023-08-13T22:20:11.993062Z"
    },
    "papermill": {
     "duration": 0.040157,
     "end_time": "2023-08-13T22:20:11.996372",
     "exception": false,
     "start_time": "2023-08-13T22:20:11.956215",
     "status": "completed"
    },
    "tags": []
   },
   "outputs": [
    {
     "name": "stdout",
     "output_type": "stream",
     "text": [
      "<class 'pandas.core.frame.DataFrame'>\n",
      "Int64Index: 889 entries, 0 to 890\n",
      "Data columns (total 12 columns):\n",
      " #   Column           Non-Null Count  Dtype  \n",
      "---  ------           --------------  -----  \n",
      " 0   Pclass           889 non-null    int64  \n",
      " 1   Sex              889 non-null    int64  \n",
      " 2   Age              889 non-null    float64\n",
      " 3   SibSp            889 non-null    float64\n",
      " 4   Parch            889 non-null    float64\n",
      " 5   Ticket           889 non-null    int64  \n",
      " 6   Fare             889 non-null    float64\n",
      " 7   Cabin            889 non-null    int64  \n",
      " 8   Embarked         889 non-null    int64  \n",
      " 9   multiple_cabins  889 non-null    int64  \n",
      " 10  cabin_letter     889 non-null    int64  \n",
      " 11  title            889 non-null    int64  \n",
      "dtypes: float64(4), int64(8)\n",
      "memory usage: 90.3 KB\n"
     ]
    }
   ],
   "source": [
    "x_train.info()"
   ]
  },
  {
   "cell_type": "code",
   "execution_count": 38,
   "id": "cfaf5681",
   "metadata": {
    "execution": {
     "iopub.execute_input": "2023-08-13T22:20:12.046265Z",
     "iopub.status.busy": "2023-08-13T22:20:12.045846Z",
     "iopub.status.idle": "2023-08-13T22:20:12.052753Z",
     "shell.execute_reply": "2023-08-13T22:20:12.051618Z"
    },
    "papermill": {
     "duration": 0.034534,
     "end_time": "2023-08-13T22:20:12.055061",
     "exception": false,
     "start_time": "2023-08-13T22:20:12.020527",
     "status": "completed"
    },
    "tags": []
   },
   "outputs": [
    {
     "data": {
      "text/plain": [
       "(418, 12)"
      ]
     },
     "execution_count": 38,
     "metadata": {},
     "output_type": "execute_result"
    }
   ],
   "source": [
    "x_test.shape"
   ]
  },
  {
   "cell_type": "code",
   "execution_count": 39,
   "id": "fdc0c392",
   "metadata": {
    "execution": {
     "iopub.execute_input": "2023-08-13T22:20:12.105042Z",
     "iopub.status.busy": "2023-08-13T22:20:12.104635Z",
     "iopub.status.idle": "2023-08-13T22:20:12.112016Z",
     "shell.execute_reply": "2023-08-13T22:20:12.110986Z"
    },
    "papermill": {
     "duration": 0.034865,
     "end_time": "2023-08-13T22:20:12.114323",
     "exception": false,
     "start_time": "2023-08-13T22:20:12.079458",
     "status": "completed"
    },
    "tags": []
   },
   "outputs": [
    {
     "data": {
      "text/plain": [
       "0    0\n",
       "1    1\n",
       "2    1\n",
       "3    1\n",
       "4    0\n",
       "Name: Survived, dtype: int64"
      ]
     },
     "execution_count": 39,
     "metadata": {},
     "output_type": "execute_result"
    }
   ],
   "source": [
    "y_train=train_data['Survived']\n",
    "y_train.head()\n"
   ]
  },
  {
   "cell_type": "markdown",
   "id": "9c42d46a",
   "metadata": {
    "papermill": {
     "duration": 0.023155,
     "end_time": "2023-08-13T22:20:12.161577",
     "exception": false,
     "start_time": "2023-08-13T22:20:12.138422",
     "status": "completed"
    },
    "tags": []
   },
   "source": [
    "****Let's check with few of the known models****"
   ]
  },
  {
   "cell_type": "markdown",
   "id": "1ed84d0a",
   "metadata": {
    "papermill": {
     "duration": 0.023471,
     "end_time": "2023-08-13T22:20:12.208497",
     "exception": false,
     "start_time": "2023-08-13T22:20:12.185026",
     "status": "completed"
    },
    "tags": []
   },
   "source": [
    "**LOGISTIC REGRESSION**"
   ]
  },
  {
   "cell_type": "code",
   "execution_count": 40,
   "id": "07b0d6bc",
   "metadata": {
    "execution": {
     "iopub.execute_input": "2023-08-13T22:20:12.257627Z",
     "iopub.status.busy": "2023-08-13T22:20:12.257236Z",
     "iopub.status.idle": "2023-08-13T22:20:12.998308Z",
     "shell.execute_reply": "2023-08-13T22:20:12.997059Z"
    },
    "papermill": {
     "duration": 0.768316,
     "end_time": "2023-08-13T22:20:13.000724",
     "exception": false,
     "start_time": "2023-08-13T22:20:12.232408",
     "status": "completed"
    },
    "tags": []
   },
   "outputs": [
    {
     "name": "stdout",
     "output_type": "stream",
     "text": [
      "[0.80898876 0.79213483 0.78089888 0.78089888 0.83050847]\n",
      "0.7986859645781756\n"
     ]
    }
   ],
   "source": [
    "from sklearn.model_selection import cross_val_score\n",
    "from sklearn.linear_model import LogisticRegression\n",
    "log_reg=LogisticRegression(max_iter=5000)\n",
    "cv = cross_val_score(log_reg, x_train, y_train, cv=5)\n",
    "print(cv)\n",
    "print(cv.mean())\n",
    "\n"
   ]
  },
  {
   "cell_type": "markdown",
   "id": "7e8ba385",
   "metadata": {
    "papermill": {
     "duration": 0.02405,
     "end_time": "2023-08-13T22:20:13.048613",
     "exception": false,
     "start_time": "2023-08-13T22:20:13.024563",
     "status": "completed"
    },
    "tags": []
   },
   "source": [
    "**RANDOM FOREST CLASSIFIER**"
   ]
  },
  {
   "cell_type": "code",
   "execution_count": 41,
   "id": "3a9f3907",
   "metadata": {
    "execution": {
     "iopub.execute_input": "2023-08-13T22:20:13.097485Z",
     "iopub.status.busy": "2023-08-13T22:20:13.097087Z",
     "iopub.status.idle": "2023-08-13T22:20:14.562923Z",
     "shell.execute_reply": "2023-08-13T22:20:14.561761Z"
    },
    "papermill": {
     "duration": 1.493046,
     "end_time": "2023-08-13T22:20:14.565143",
     "exception": false,
     "start_time": "2023-08-13T22:20:13.072097",
     "status": "completed"
    },
    "tags": []
   },
   "outputs": [
    {
     "name": "stdout",
     "output_type": "stream",
     "text": [
      "[0.8258427  0.81460674 0.86516854 0.80898876 0.86440678]\n",
      "0.8358027042468101\n"
     ]
    }
   ],
   "source": [
    "from sklearn.ensemble import RandomForestClassifier\n",
    "rfc=RandomForestClassifier()\n",
    "cv=cross_val_score(rfc,x_train,y_train,cv=5)\n",
    "print(cv)\n",
    "print(cv.mean())"
   ]
  },
  {
   "cell_type": "markdown",
   "id": "e8d2234c",
   "metadata": {
    "papermill": {
     "duration": 0.023355,
     "end_time": "2023-08-13T22:20:14.612093",
     "exception": false,
     "start_time": "2023-08-13T22:20:14.588738",
     "status": "completed"
    },
    "tags": []
   },
   "source": [
    "**K-NEAREST NEIGHBOURS CLASSIFIER**"
   ]
  },
  {
   "cell_type": "code",
   "execution_count": 42,
   "id": "350a6157",
   "metadata": {
    "execution": {
     "iopub.execute_input": "2023-08-13T22:20:14.660862Z",
     "iopub.status.busy": "2023-08-13T22:20:14.660458Z",
     "iopub.status.idle": "2023-08-13T22:20:14.736032Z",
     "shell.execute_reply": "2023-08-13T22:20:14.734672Z"
    },
    "papermill": {
     "duration": 0.103421,
     "end_time": "2023-08-13T22:20:14.738834",
     "exception": false,
     "start_time": "2023-08-13T22:20:14.635413",
     "status": "completed"
    },
    "tags": []
   },
   "outputs": [
    {
     "name": "stdout",
     "output_type": "stream",
     "text": [
      "[0.64606742 0.59550562 0.69101124 0.75280899 0.70056497]\n",
      "0.6771916460356758\n"
     ]
    }
   ],
   "source": [
    "from sklearn.neighbors import KNeighborsClassifier\n",
    "\n",
    "knn = KNeighborsClassifier()\n",
    "cv = cross_val_score(knn,x_train,y_train,cv=5)\n",
    "print(cv)\n",
    "print(cv.mean())"
   ]
  },
  {
   "cell_type": "markdown",
   "id": "dec748fb",
   "metadata": {
    "papermill": {
     "duration": 0.025686,
     "end_time": "2023-08-13T22:20:14.788857",
     "exception": false,
     "start_time": "2023-08-13T22:20:14.763171",
     "status": "completed"
    },
    "tags": []
   },
   "source": [
    "**SUPPORT VECTOR CLASSIFIER**"
   ]
  },
  {
   "cell_type": "code",
   "execution_count": 43,
   "id": "f1d3064a",
   "metadata": {
    "execution": {
     "iopub.execute_input": "2023-08-13T22:20:14.842307Z",
     "iopub.status.busy": "2023-08-13T22:20:14.841858Z",
     "iopub.status.idle": "2023-08-13T22:20:15.443036Z",
     "shell.execute_reply": "2023-08-13T22:20:15.441744Z"
    },
    "papermill": {
     "duration": 0.629554,
     "end_time": "2023-08-13T22:20:15.445621",
     "exception": false,
     "start_time": "2023-08-13T22:20:14.816067",
     "status": "completed"
    },
    "tags": []
   },
   "outputs": [
    {
     "name": "stdout",
     "output_type": "stream",
     "text": [
      "[0.61797753 0.64044944 0.65730337 0.70786517 0.70056497]\n",
      "0.664832095473878\n"
     ]
    }
   ],
   "source": [
    "from sklearn.svm import SVC\n",
    "\n",
    "svc=SVC(probability=True,kernel='rbf')\n",
    "cv = cross_val_score(svc,x_train,y_train,cv=5)\n",
    "print(cv)\n",
    "print(cv.mean())"
   ]
  },
  {
   "cell_type": "markdown",
   "id": "51e262a4",
   "metadata": {
    "papermill": {
     "duration": 0.024601,
     "end_time": "2023-08-13T22:20:15.494202",
     "exception": false,
     "start_time": "2023-08-13T22:20:15.469601",
     "status": "completed"
    },
    "tags": []
   },
   "source": [
    "**DECISION TREE CLASSIFIER**"
   ]
  },
  {
   "cell_type": "code",
   "execution_count": 44,
   "id": "666fd7a8",
   "metadata": {
    "execution": {
     "iopub.execute_input": "2023-08-13T22:20:15.544563Z",
     "iopub.status.busy": "2023-08-13T22:20:15.544170Z",
     "iopub.status.idle": "2023-08-13T22:20:15.586375Z",
     "shell.execute_reply": "2023-08-13T22:20:15.585205Z"
    },
    "papermill": {
     "duration": 0.070409,
     "end_time": "2023-08-13T22:20:15.588678",
     "exception": false,
     "start_time": "2023-08-13T22:20:15.518269",
     "status": "completed"
    },
    "tags": []
   },
   "outputs": [
    {
     "name": "stdout",
     "output_type": "stream",
     "text": [
      "[0.75842697 0.80898876 0.82022472 0.79775281 0.85310734]\n",
      "0.807700120611947\n"
     ]
    }
   ],
   "source": [
    "from sklearn.tree import DecisionTreeClassifier\n",
    "\n",
    "dtc=DecisionTreeClassifier(max_depth=5,random_state=0)\n",
    "cv = cross_val_score(dtc,x_train,y_train,cv=5)\n",
    "print(cv)\n",
    "print(cv.mean())"
   ]
  },
  {
   "cell_type": "markdown",
   "id": "66df8e22",
   "metadata": {
    "papermill": {
     "duration": 0.023813,
     "end_time": "2023-08-13T22:20:15.636850",
     "exception": false,
     "start_time": "2023-08-13T22:20:15.613037",
     "status": "completed"
    },
    "tags": []
   },
   "source": [
    "Of all the models, 'RANDOM FOREST CLASSIFIER' seems to be the best-fit with ~84% cross value score."
   ]
  },
  {
   "cell_type": "markdown",
   "id": "3b41dfee",
   "metadata": {
    "papermill": {
     "duration": 0.024646,
     "end_time": "2023-08-13T22:20:15.685659",
     "exception": false,
     "start_time": "2023-08-13T22:20:15.661013",
     "status": "completed"
    },
    "tags": []
   },
   "source": [
    "*  RANDOM FOREST CLASSIFIR - 84%\n",
    "* \n",
    "* DECISION TREE CLASSIFIER - 81%\n",
    "* \n",
    "*  LOGISTIC REGRESSION - 80%\n",
    "* \n",
    "*  K-NEAREST NEIGHBOUR - 68%\n",
    "* \n",
    "*  SUPPORT VECTOR MACHINE - 66%**"
   ]
  },
  {
   "cell_type": "code",
   "execution_count": 45,
   "id": "c5f46f17",
   "metadata": {
    "execution": {
     "iopub.execute_input": "2023-08-13T22:20:15.736692Z",
     "iopub.status.busy": "2023-08-13T22:20:15.736308Z",
     "iopub.status.idle": "2023-08-13T22:20:15.989802Z",
     "shell.execute_reply": "2023-08-13T22:20:15.988528Z"
    },
    "papermill": {
     "duration": 0.281998,
     "end_time": "2023-08-13T22:20:15.992184",
     "exception": false,
     "start_time": "2023-08-13T22:20:15.710186",
     "status": "completed"
    },
    "tags": []
   },
   "outputs": [
    {
     "data": {
      "text/html": [
       "<style>#sk-container-id-1 {color: black;background-color: white;}#sk-container-id-1 pre{padding: 0;}#sk-container-id-1 div.sk-toggleable {background-color: white;}#sk-container-id-1 label.sk-toggleable__label {cursor: pointer;display: block;width: 100%;margin-bottom: 0;padding: 0.3em;box-sizing: border-box;text-align: center;}#sk-container-id-1 label.sk-toggleable__label-arrow:before {content: \"▸\";float: left;margin-right: 0.25em;color: #696969;}#sk-container-id-1 label.sk-toggleable__label-arrow:hover:before {color: black;}#sk-container-id-1 div.sk-estimator:hover label.sk-toggleable__label-arrow:before {color: black;}#sk-container-id-1 div.sk-toggleable__content {max-height: 0;max-width: 0;overflow: hidden;text-align: left;background-color: #f0f8ff;}#sk-container-id-1 div.sk-toggleable__content pre {margin: 0.2em;color: black;border-radius: 0.25em;background-color: #f0f8ff;}#sk-container-id-1 input.sk-toggleable__control:checked~div.sk-toggleable__content {max-height: 200px;max-width: 100%;overflow: auto;}#sk-container-id-1 input.sk-toggleable__control:checked~label.sk-toggleable__label-arrow:before {content: \"▾\";}#sk-container-id-1 div.sk-estimator input.sk-toggleable__control:checked~label.sk-toggleable__label {background-color: #d4ebff;}#sk-container-id-1 div.sk-label input.sk-toggleable__control:checked~label.sk-toggleable__label {background-color: #d4ebff;}#sk-container-id-1 input.sk-hidden--visually {border: 0;clip: rect(1px 1px 1px 1px);clip: rect(1px, 1px, 1px, 1px);height: 1px;margin: -1px;overflow: hidden;padding: 0;position: absolute;width: 1px;}#sk-container-id-1 div.sk-estimator {font-family: monospace;background-color: #f0f8ff;border: 1px dotted black;border-radius: 0.25em;box-sizing: border-box;margin-bottom: 0.5em;}#sk-container-id-1 div.sk-estimator:hover {background-color: #d4ebff;}#sk-container-id-1 div.sk-parallel-item::after {content: \"\";width: 100%;border-bottom: 1px solid gray;flex-grow: 1;}#sk-container-id-1 div.sk-label:hover label.sk-toggleable__label {background-color: #d4ebff;}#sk-container-id-1 div.sk-serial::before {content: \"\";position: absolute;border-left: 1px solid gray;box-sizing: border-box;top: 0;bottom: 0;left: 50%;z-index: 0;}#sk-container-id-1 div.sk-serial {display: flex;flex-direction: column;align-items: center;background-color: white;padding-right: 0.2em;padding-left: 0.2em;position: relative;}#sk-container-id-1 div.sk-item {position: relative;z-index: 1;}#sk-container-id-1 div.sk-parallel {display: flex;align-items: stretch;justify-content: center;background-color: white;position: relative;}#sk-container-id-1 div.sk-item::before, #sk-container-id-1 div.sk-parallel-item::before {content: \"\";position: absolute;border-left: 1px solid gray;box-sizing: border-box;top: 0;bottom: 0;left: 50%;z-index: -1;}#sk-container-id-1 div.sk-parallel-item {display: flex;flex-direction: column;z-index: 1;position: relative;background-color: white;}#sk-container-id-1 div.sk-parallel-item:first-child::after {align-self: flex-end;width: 50%;}#sk-container-id-1 div.sk-parallel-item:last-child::after {align-self: flex-start;width: 50%;}#sk-container-id-1 div.sk-parallel-item:only-child::after {width: 0;}#sk-container-id-1 div.sk-dashed-wrapped {border: 1px dashed gray;margin: 0 0.4em 0.5em 0.4em;box-sizing: border-box;padding-bottom: 0.4em;background-color: white;}#sk-container-id-1 div.sk-label label {font-family: monospace;font-weight: bold;display: inline-block;line-height: 1.2em;}#sk-container-id-1 div.sk-label-container {text-align: center;}#sk-container-id-1 div.sk-container {/* jupyter's `normalize.less` sets `[hidden] { display: none; }` but bootstrap.min.css set `[hidden] { display: none !important; }` so we also need the `!important` here to be able to override the default hidden behavior on the sphinx rendered scikit-learn.org. See: https://github.com/scikit-learn/scikit-learn/issues/21755 */display: inline-block !important;position: relative;}#sk-container-id-1 div.sk-text-repr-fallback {display: none;}</style><div id=\"sk-container-id-1\" class=\"sk-top-container\"><div class=\"sk-text-repr-fallback\"><pre>RandomForestClassifier()</pre><b>In a Jupyter environment, please rerun this cell to show the HTML representation or trust the notebook. <br />On GitHub, the HTML representation is unable to render, please try loading this page with nbviewer.org.</b></div><div class=\"sk-container\" hidden><div class=\"sk-item\"><div class=\"sk-estimator sk-toggleable\"><input class=\"sk-toggleable__control sk-hidden--visually\" id=\"sk-estimator-id-1\" type=\"checkbox\" checked><label for=\"sk-estimator-id-1\" class=\"sk-toggleable__label sk-toggleable__label-arrow\">RandomForestClassifier</label><div class=\"sk-toggleable__content\"><pre>RandomForestClassifier()</pre></div></div></div></div></div>"
      ],
      "text/plain": [
       "RandomForestClassifier()"
      ]
     },
     "execution_count": 45,
     "metadata": {},
     "output_type": "execute_result"
    }
   ],
   "source": [
    "rf=RandomForestClassifier()\n",
    "rf.fit(x_train,y_train)\n"
   ]
  },
  {
   "cell_type": "code",
   "execution_count": 46,
   "id": "67629faf",
   "metadata": {
    "execution": {
     "iopub.execute_input": "2023-08-13T22:20:16.043907Z",
     "iopub.status.busy": "2023-08-13T22:20:16.043542Z",
     "iopub.status.idle": "2023-08-13T22:20:16.070490Z",
     "shell.execute_reply": "2023-08-13T22:20:16.069531Z"
    },
    "papermill": {
     "duration": 0.055658,
     "end_time": "2023-08-13T22:20:16.073023",
     "exception": false,
     "start_time": "2023-08-13T22:20:16.017365",
     "status": "completed"
    },
    "tags": []
   },
   "outputs": [],
   "source": [
    "y_pred=rf.predict(x_test)\n",
    "output_df=pd.DataFrame({'PassengerId':test_data['PassengerId'],'Survived':y_pred})\n",
    "\n",
    "output_df.to_csv('submission.csv',index=False)"
   ]
  }
 ],
 "metadata": {
  "kernelspec": {
   "display_name": "Python 3",
   "language": "python",
   "name": "python3"
  },
  "language_info": {
   "codemirror_mode": {
    "name": "ipython",
    "version": 3
   },
   "file_extension": ".py",
   "mimetype": "text/x-python",
   "name": "python",
   "nbconvert_exporter": "python",
   "pygments_lexer": "ipython3",
   "version": "3.10.12"
  },
  "papermill": {
   "default_parameters": {},
   "duration": 29.63623,
   "end_time": "2023-08-13T22:20:17.119767",
   "environment_variables": {},
   "exception": null,
   "input_path": "__notebook__.ipynb",
   "output_path": "__notebook__.ipynb",
   "parameters": {},
   "start_time": "2023-08-13T22:19:47.483537",
   "version": "2.4.0"
  }
 },
 "nbformat": 4,
 "nbformat_minor": 5
}
